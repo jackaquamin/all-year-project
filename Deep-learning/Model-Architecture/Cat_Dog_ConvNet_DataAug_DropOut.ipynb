{
 "cells": [
  {
   "cell_type": "code",
   "execution_count": 1,
   "id": "4ea6a074",
   "metadata": {},
   "outputs": [
    {
     "name": "stdout",
     "output_type": "stream",
     "text": [
      "Found 2000 images belonging to 2 classes.\n",
      "Found 1000 images belonging to 2 classes.\n"
     ]
    }
   ],
   "source": [
    "#Directories for the training, validation, and test splits\n",
    "train_dir = 'C:/Users/May Phu Paing/OneDrive - KMITL/Desktop/DeepPython/cats_and_dogs_small/train' \n",
    "validation_dir ='C:/Users/May Phu Paing/OneDrive - KMITL/Desktop/DeepPython/cats_and_dogs_small/validation'\n",
    "test_dir = 'C:/Users/May Phu Paing/OneDrive - KMITL/Desktop/DeepPython/cats_and_dogs_small/test' \n",
    "\n",
    "\n",
    "# load the dataset \n",
    "from tensorflow.keras. preprocessing.image import ImageDataGenerator\n",
    "\n",
    "train_datagen = ImageDataGenerator(\n",
    "rescale=1./255,\n",
    "rotation_range=40,\n",
    "width_shift_range=0.2,\n",
    "height_shift_range=0.2,\n",
    "shear_range=0.2,\n",
    "zoom_range=0.2,\n",
    "horizontal_flip=True,)\n",
    "\n",
    "test_datagen = ImageDataGenerator(rescale=1./255) # validation data shouldn’t be augmented! \n",
    "\n",
    "train_generator  = train_datagen.flow_from_directory(\n",
    "    train_dir,\n",
    "    target_size=(150,150),\n",
    "    batch_size=20,\n",
    "    class_mode='binary'\n",
    ")\n",
    "\n",
    "validation_generator  = test_datagen.flow_from_directory(\n",
    "    validation_dir,\n",
    "    target_size=(150,150),\n",
    "    batch_size=20,\n",
    "    class_mode='binary'\n",
    ") \n",
    "\n"
   ]
  },
  {
   "cell_type": "code",
   "execution_count": 2,
   "id": "ab2c13e1",
   "metadata": {},
   "outputs": [
    {
     "name": "stdout",
     "output_type": "stream",
     "text": [
      "data batch shape: (20, 150, 150, 3)\n",
      "labels batch shape: (20,)\n"
     ]
    }
   ],
   "source": [
    "for data_batch, labels_batch in train_generator:\n",
    "    print('data batch shape:', data_batch.shape)\n",
    "    print('labels batch shape:',labels_batch.shape)\n",
    "    break"
   ]
  },
  {
   "cell_type": "code",
   "execution_count": 3,
   "id": "dbff3b96",
   "metadata": {},
   "outputs": [
    {
     "name": "stdout",
     "output_type": "stream",
     "text": [
      "Model: \"sequential\"\n",
      "_________________________________________________________________\n",
      "Layer (type)                 Output Shape              Param #   \n",
      "=================================================================\n",
      "conv2d (Conv2D)              (None, 148, 148, 32)      896       \n",
      "_________________________________________________________________\n",
      "max_pooling2d (MaxPooling2D) (None, 74, 74, 32)        0         \n",
      "_________________________________________________________________\n",
      "conv2d_1 (Conv2D)            (None, 72, 72, 64)        18496     \n",
      "_________________________________________________________________\n",
      "max_pooling2d_1 (MaxPooling2 (None, 36, 36, 64)        0         \n",
      "_________________________________________________________________\n",
      "conv2d_2 (Conv2D)            (None, 34, 34, 128)       73856     \n",
      "_________________________________________________________________\n",
      "max_pooling2d_2 (MaxPooling2 (None, 17, 17, 128)       0         \n",
      "_________________________________________________________________\n",
      "conv2d_3 (Conv2D)            (None, 15, 15, 128)       147584    \n",
      "_________________________________________________________________\n",
      "max_pooling2d_3 (MaxPooling2 (None, 7, 7, 128)         0         \n",
      "_________________________________________________________________\n",
      "dropout (Dropout)            (None, 7, 7, 128)         0         \n",
      "_________________________________________________________________\n",
      "flatten (Flatten)            (None, 6272)              0         \n",
      "_________________________________________________________________\n",
      "dense (Dense)                (None, 512)               3211776   \n",
      "_________________________________________________________________\n",
      "dense_1 (Dense)              (None, 1)                 513       \n",
      "=================================================================\n",
      "Total params: 3,453,121\n",
      "Trainable params: 3,453,121\n",
      "Non-trainable params: 0\n",
      "_________________________________________________________________\n"
     ]
    }
   ],
   "source": [
    "# convnet for dog cat classification \n",
    "\n",
    "from tensorflow.keras import layers, models\n",
    "\n",
    "model = models.Sequential()\n",
    "model.add(layers.Conv2D(32, (3, 3), activation='relu',input_shape=(150, 150, 3)))\n",
    "model.add(layers.MaxPooling2D((2, 2)))\n",
    "\n",
    "model.add(layers.Conv2D(64, (3, 3), activation='relu'))\n",
    "model.add(layers.MaxPooling2D((2, 2)))\n",
    "\n",
    "model.add(layers.Conv2D(128, (3, 3), activation='relu'))\n",
    "model.add(layers.MaxPooling2D((2, 2)))\n",
    "\n",
    "model.add(layers.Conv2D(128, (3, 3), activation='relu'))\n",
    "model.add(layers.MaxPooling2D((2, 2)))\n",
    "\n",
    "model.add(layers.Dropout(0.5)) # dropout layer is added\n",
    "model.add(layers.Flatten())\n",
    "model.add(layers.Dense(512, activation='relu'))\n",
    "model.add(layers.Dense(1, activation='sigmoid'))\n",
    "\n",
    "model.summary()\n"
   ]
  },
  {
   "cell_type": "code",
   "execution_count": 4,
   "id": "1f1491ba",
   "metadata": {},
   "outputs": [],
   "source": [
    "# compile the model \n",
    "from tensorflow.keras import optimizers\n",
    "model.compile(loss='binary_crossentropy',\n",
    "              optimizer=optimizers.RMSprop(learning_rate=1e-4),\n",
    "              metrics=['acc'])"
   ]
  },
  {
   "cell_type": "code",
   "execution_count": 5,
   "id": "c41ca3f3",
   "metadata": {},
   "outputs": [
    {
     "name": "stderr",
     "output_type": "stream",
     "text": [
      "C:\\Users\\May Phu Paing\\anaconda3\\envs\\DL\\lib\\site-packages\\tensorflow\\python\\keras\\engine\\training.py:1940: UserWarning: `Model.fit_generator` is deprecated and will be removed in a future version. Please use `Model.fit`, which supports generators.\n",
      "  warnings.warn('`Model.fit_generator` is deprecated and '\n"
     ]
    },
    {
     "name": "stdout",
     "output_type": "stream",
     "text": [
      "Epoch 1/30\n",
      "100/100 [==============================] - 50s 493ms/step - loss: 0.6937 - acc: 0.5225 - val_loss: 0.7129 - val_acc: 0.5000\n",
      "Epoch 2/30\n",
      "100/100 [==============================] - 51s 504ms/step - loss: 0.6880 - acc: 0.5475 - val_loss: 0.6786 - val_acc: 0.5610\n",
      "Epoch 3/30\n",
      "100/100 [==============================] - 53s 526ms/step - loss: 0.6816 - acc: 0.5660 - val_loss: 0.6587 - val_acc: 0.6000\n",
      "Epoch 4/30\n",
      "100/100 [==============================] - 99s 998ms/step - loss: 0.6678 - acc: 0.5835 - val_loss: 0.6757 - val_acc: 0.5630\n",
      "Epoch 5/30\n",
      "100/100 [==============================] - 101s 997ms/step - loss: 0.6603 - acc: 0.6085 - val_loss: 0.6641 - val_acc: 0.5750\n",
      "Epoch 6/30\n",
      "100/100 [==============================] - 78s 776ms/step - loss: 0.6535 - acc: 0.6135 - val_loss: 0.6576 - val_acc: 0.5840\n",
      "Epoch 7/30\n",
      "100/100 [==============================] - 78s 779ms/step - loss: 0.6483 - acc: 0.6155 - val_loss: 0.6404 - val_acc: 0.6060\n",
      "Epoch 8/30\n",
      "100/100 [==============================] - 84s 836ms/step - loss: 0.6273 - acc: 0.6455 - val_loss: 0.5938 - val_acc: 0.6790\n",
      "Epoch 9/30\n",
      "100/100 [==============================] - 74s 736ms/step - loss: 0.6282 - acc: 0.6470 - val_loss: 0.6606 - val_acc: 0.5970\n",
      "Epoch 10/30\n",
      "100/100 [==============================] - 79s 795ms/step - loss: 0.6182 - acc: 0.6545 - val_loss: 0.5851 - val_acc: 0.6810\n",
      "Epoch 11/30\n",
      "100/100 [==============================] - 80s 798ms/step - loss: 0.6033 - acc: 0.6675 - val_loss: 0.5681 - val_acc: 0.7010\n",
      "Epoch 12/30\n",
      "100/100 [==============================] - 74s 736ms/step - loss: 0.6036 - acc: 0.6625 - val_loss: 0.5520 - val_acc: 0.7190\n",
      "Epoch 13/30\n",
      "100/100 [==============================] - 68s 678ms/step - loss: 0.5871 - acc: 0.6915 - val_loss: 0.5814 - val_acc: 0.6790\n",
      "Epoch 14/30\n",
      "100/100 [==============================] - 72s 723ms/step - loss: 0.5894 - acc: 0.6855 - val_loss: 0.5331 - val_acc: 0.7240\n",
      "Epoch 15/30\n",
      "100/100 [==============================] - 65s 648ms/step - loss: 0.5816 - acc: 0.6950 - val_loss: 0.5253 - val_acc: 0.7340\n",
      "Epoch 16/30\n",
      "100/100 [==============================] - 69s 686ms/step - loss: 0.5710 - acc: 0.6870 - val_loss: 0.5307 - val_acc: 0.7270\n",
      "Epoch 17/30\n",
      "100/100 [==============================] - 63s 633ms/step - loss: 0.5707 - acc: 0.6915 - val_loss: 0.5357 - val_acc: 0.7220\n",
      "Epoch 18/30\n",
      "100/100 [==============================] - 69s 688ms/step - loss: 0.5507 - acc: 0.7190 - val_loss: 0.5249 - val_acc: 0.7170\n",
      "Epoch 19/30\n",
      "100/100 [==============================] - 65s 650ms/step - loss: 0.5611 - acc: 0.7020 - val_loss: 0.5440 - val_acc: 0.7060\n",
      "Epoch 20/30\n",
      "100/100 [==============================] - 68s 679ms/step - loss: 0.5551 - acc: 0.7170 - val_loss: 0.5074 - val_acc: 0.7430\n",
      "Epoch 21/30\n",
      "100/100 [==============================] - 72s 721ms/step - loss: 0.5529 - acc: 0.7145 - val_loss: 0.5598 - val_acc: 0.7150\n",
      "Epoch 22/30\n",
      "100/100 [==============================] - 70s 696ms/step - loss: 0.5547 - acc: 0.7225 - val_loss: 0.5349 - val_acc: 0.7300\n",
      "Epoch 23/30\n",
      "100/100 [==============================] - 70s 705ms/step - loss: 0.5346 - acc: 0.7385 - val_loss: 0.5036 - val_acc: 0.7430\n",
      "Epoch 24/30\n",
      "100/100 [==============================] - 81s 810ms/step - loss: 0.5384 - acc: 0.7255 - val_loss: 0.5310 - val_acc: 0.7340\n",
      "Epoch 25/30\n",
      "100/100 [==============================] - 82s 819ms/step - loss: 0.5307 - acc: 0.7245 - val_loss: 0.5058 - val_acc: 0.7480\n",
      "Epoch 26/30\n",
      "100/100 [==============================] - 94s 943ms/step - loss: 0.5154 - acc: 0.7470 - val_loss: 0.5083 - val_acc: 0.7390\n",
      "Epoch 27/30\n",
      "100/100 [==============================] - 106s 1s/step - loss: 0.5229 - acc: 0.7340 - val_loss: 0.4942 - val_acc: 0.7610\n",
      "Epoch 28/30\n",
      "100/100 [==============================] - 86s 860ms/step - loss: 0.5356 - acc: 0.7275 - val_loss: 0.4894 - val_acc: 0.7560\n",
      "Epoch 29/30\n",
      "100/100 [==============================] - 77s 769ms/step - loss: 0.5291 - acc: 0.7380 - val_loss: 0.4854 - val_acc: 0.7650\n",
      "Epoch 30/30\n",
      "100/100 [==============================] - 73s 726ms/step - loss: 0.5232 - acc: 0.7255 - val_loss: 0.5393 - val_acc: 0.7220\n"
     ]
    }
   ],
   "source": [
    "# train the model\n",
    "history  = model.fit_generator(train_generator,\n",
    "                              steps_per_epoch=100,\n",
    "                              epochs=30,\n",
    "                              validation_data=validation_generator,\n",
    "                              validation_steps=50)"
   ]
  },
  {
   "cell_type": "code",
   "execution_count": 6,
   "id": "c8d544d8",
   "metadata": {},
   "outputs": [],
   "source": [
    "#save the trained model\n",
    "model.save('cats_and_dogs_small_2.h5')"
   ]
  },
  {
   "cell_type": "code",
   "execution_count": 7,
   "id": "e0ae3a9e",
   "metadata": {},
   "outputs": [
    {
     "data": {
      "image/png": "[encoded data removed]",
      "text/plain": [
       "<Figure size 432x288 with 1 Axes>"
      ]
     },
     "metadata": {
      "needs_background": "light"
     },
     "output_type": "display_data"
    },
    {
     "data": {
      "image/png": "[encoded data removed]",
      "text/plain": [
       "<Figure size 432x288 with 1 Axes>"
      ]
     },
     "metadata": {
      "needs_background": "light"
     },
     "output_type": "display_data"
    }
   ],
   "source": [
    "import matplotlib.pyplot as plt\n",
    "\n",
    "acc = history.history['acc']\n",
    "val_acc = history.history['val_acc']\n",
    "loss = history.history['loss']\n",
    "val_loss = history.history['val_loss']\n",
    "\n",
    "epochs = range(1, len(acc) + 1)\n",
    "\n",
    "plt.plot(epochs, acc, 'bo', label='Training acc')\n",
    "plt.plot(epochs, val_acc, 'b', label='Validation acc')\n",
    "plt.title('Training and validation accuracy')\n",
    "plt.legend()\n",
    "plt.figure()\n",
    "\n",
    "\n",
    "plt.plot(epochs, loss, 'bo', label='Training loss')\n",
    "plt.plot(epochs, val_loss, 'b', label='Validation loss')\n",
    "plt.title('Training and validation loss')\n",
    "plt.legend()\n",
    "plt.show()"
   ]
  }
 ],
 "metadata": {
  "kernelspec": {
   "display_name": "Python (Deepenv)",
   "language": "python",
   "name": "deepenv"
  },
  "language_info": {
   "codemirror_mode": {
    "name": "ipython",
    "version": 3
   },
   "file_extension": ".py",
   "mimetype": "text/x-python",
   "name": "python",
   "nbconvert_exporter": "python",
   "pygments_lexer": "ipython3",
   "version": "3.9.7"
  }
 },
 "nbformat": 4,
 "nbformat_minor": 5
}
