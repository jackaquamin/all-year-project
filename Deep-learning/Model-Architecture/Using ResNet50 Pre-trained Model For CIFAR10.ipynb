{
 "cells": [
  {
   "cell_type": "code",
   "execution_count": 1,
   "id": "4d17f829",
   "metadata": {},
   "outputs": [
    {
     "name": "stdout",
     "output_type": "stream",
     "text": [
      "Collecting scikit-image\n",
      "  Downloading scikit_image-0.19.1-cp39-cp39-win_amd64.whl (12.4 MB)\n",
      "Collecting networkx>=2.2\n",
      "  Using cached networkx-2.6.3-py3-none-any.whl (1.9 MB)\n",
      "Requirement already satisfied: pillow!=7.1.0,!=7.1.1,!=8.3.0,>=6.1.0 in c:\\users\\may phu paing\\anaconda3\\envs\\dl\\lib\\site-packages (from scikit-image) (8.4.0)\n",
      "Requirement already satisfied: packaging>=20.0 in c:\\users\\may phu paing\\anaconda3\\envs\\dl\\lib\\site-packages (from scikit-image) (21.3)\n",
      "Requirement already satisfied: scipy>=1.4.1 in c:\\users\\may phu paing\\anaconda3\\envs\\dl\\lib\\site-packages (from scikit-image) (1.7.3)\n",
      "Collecting tifffile>=2019.7.26\n",
      "  Downloading tifffile-2022.2.2-py3-none-any.whl (179 kB)\n",
      "Requirement already satisfied: numpy>=1.17.0 in c:\\users\\may phu paing\\anaconda3\\envs\\dl\\lib\\site-packages (from scikit-image) (1.19.5)\n",
      "Collecting imageio>=2.4.1\n",
      "  Downloading imageio-2.14.1-py3-none-any.whl (3.3 MB)\n",
      "Collecting PyWavelets>=1.1.1\n",
      "  Downloading PyWavelets-1.2.0-cp39-cp39-win_amd64.whl (4.2 MB)\n",
      "Requirement already satisfied: pyparsing!=3.0.5,>=2.0.2 in c:\\users\\may phu paing\\anaconda3\\envs\\dl\\lib\\site-packages (from packaging>=20.0->scikit-image) (3.0.6)\n",
      "Installing collected packages: tifffile, PyWavelets, networkx, imageio, scikit-image\n",
      "Successfully installed PyWavelets-1.2.0 imageio-2.14.1 networkx-2.6.3 scikit-image-0.19.1 tifffile-2022.2.2\n"
     ]
    }
   ],
   "source": [
    "! pip install scikit-image\n"
   ]
  },
  {
   "cell_type": "code",
   "execution_count": 5,
   "id": "53648b5d",
   "metadata": {},
   "outputs": [],
   "source": [
    "import tensorflow \n",
    "import tensorflow.keras\n",
    "import numpy as np\n",
    "from tensorflow.keras.datasets import cifar10\n",
    "from tensorflow.keras.applications.resnet50 import ResNet50\n",
    "from tensorflow.keras.layers import GlobalAveragePooling2D, Dense\n",
    "from tensorflow.keras.preprocessing.image import ImageDataGenerator\n",
    "from tensorflow.keras.models import Model\n",
    "from skimage.transform import resize\n",
    "from IPython import embed\n"
   ]
  },
  {
   "cell_type": "code",
   "execution_count": 6,
   "id": "a6d3bdac",
   "metadata": {},
   "outputs": [],
   "source": [
    "# define the parameters\n",
    "NUM_CLASSES = 10\n",
    "BATCH_SIZE = 10\n",
    "NUM_EPOCHS = 10\n",
    "use_data_aug = True\n"
   ]
  },
  {
   "cell_type": "code",
   "execution_count": 7,
   "id": "bcc10558",
   "metadata": {},
   "outputs": [],
   "source": [
    "# define a function to resize the image\n",
    "# img_arr is of shape (n, h, w, c)\n",
    "def resize_image_arr(img_arr):\n",
    "    x_resized_list = []\n",
    "    for i in range(img_arr.shape[0]):\n",
    "        img = img_arr[0]\n",
    "        resized_img = resize(img, (32, 32))\n",
    "        x_resized_list.append(resized_img)\n",
    "    return np.stack(x_resized_list)\n"
   ]
  },
  {
   "cell_type": "code",
   "execution_count": 8,
   "id": "f1d67e00",
   "metadata": {},
   "outputs": [
    {
     "name": "stdout",
     "output_type": "stream",
     "text": [
      "((35000, 32, 32, 3), (35000, 1))\n",
      "((15000, 32, 32, 3), (15000, 1))\n",
      "((10000, 32, 32, 3), (10000, 1))\n"
     ]
    }
   ],
   "source": [
    "# load the dataset\n",
    "(x_train_tmp, y_train_tmp), (x_test, y_test) = cifar10.load_data()\n",
    "\n",
    "# get the validataion split\n",
    "from sklearn.model_selection import train_test_split\n",
    "x_train,x_val,y_train,y_val = train_test_split(x_train_tmp,y_train_tmp,test_size=.3)\n",
    "\n",
    "#Dimension of the CIFAR10 dataset\n",
    "print((x_train.shape,y_train.shape))\n",
    "print((x_val.shape,y_val.shape))\n",
    "print((x_test.shape,y_test.shape))"
   ]
  },
  {
   "cell_type": "code",
   "execution_count": 10,
   "id": "ecca952a",
   "metadata": {},
   "outputs": [],
   "source": [
    "# Resize image arrays\n",
    "x_train = resize_image_arr(x_train)\n",
    "x_val = resize_image_arr(x_val)\n",
    "x_test = resize_image_arr(x_test)\n",
    "\n",
    "# Convert class vectors to binary class matrices.\n",
    "y_train = tensorflow.keras.utils.to_categorical(y_train, NUM_CLASSES)\n",
    "y_val = tensorflow.keras.utils.to_categorical(y_val, NUM_CLASSES)\n",
    "y_test = tensorflow.keras.utils.to_categorical(y_test, NUM_CLASSES)\n",
    "\n",
    "# Normalize the data\n",
    "x_train = x_train.astype('float32')\n",
    "x_val = x_val.astype('float32')\n",
    "x_test = x_test.astype('float32')\n",
    "\n",
    "x_train /= 255\n",
    "x_val /= 255\n",
    "x_test /= 255"
   ]
  },
  {
   "cell_type": "code",
   "execution_count": null,
   "id": "cc0c7351",
   "metadata": {},
   "outputs": [],
   "source": [
    "base_model = ResNet50(include_top=False, weights='imagenet')\n",
    "\n",
    "# add a global spatial average pooling layer\n",
    "x = base_model.output\n",
    "x = GlobalAveragePooling2D()(x)\n",
    "\n",
    "# let's add a fully-connected layer\n",
    "x = Dense(512, activation='relu')(x)\n",
    "\n",
    "# and a logistic layer -- 10 classes for CIFAR10\n",
    "predictions = Dense(NUM_CLASSES, activation='softmax')(x)"
   ]
  },
  {
   "cell_type": "code",
   "execution_count": null,
   "id": "06046905",
   "metadata": {},
   "outputs": [],
   "source": [
    "# this is the model we will train\n",
    "model = Model(inputs=base_model.input, outputs=predictions)\n",
    "\n",
    "# initiate RMSprop optimizer\n",
    "opt = keras.optimizers.rmsprop(lr=0.0, decay=0.0)\n",
    "\n",
    "# Let's train the model using RMSprop\n",
    "model.compile(loss='binary_crossentropy',\n",
    "              optimizer=opt,\n",
    "              metrics=['accuracy'])\n"
   ]
  },
  {
   "cell_type": "code",
   "execution_count": null,
   "id": "d9e51788",
   "metadata": {},
   "outputs": [],
   "source": [
    "if not use_data_aug:\n",
    "    model.fit(x_train, y_train,\n",
    "              batch_size=BATCH_SIZE,\n",
    "              epochs=NUM_EPOCHS,\n",
    "              validation_data=(x_val, y_val),\n",
    "              shuffle=False)\n",
    "else:\n",
    "    datagen = ImageDataGenerator(\n",
    "        featurewise_center=False,  # set input mean to 0 over the dataset\n",
    "        samplewise_center=False,  # set each sample mean to 0\n",
    "        featurewise_std_normalization=False,  # divide inputs by std of the dataset\n",
    "        samplewise_std_normalization=False,  # divide each input by its std\n",
    "        zca_whitening=False,  # apply ZCA whitening\n",
    "        rotation_range=0,  # randomly rotate images in the range (degrees, 0 to 180)\n",
    "        width_shift_range=0,  # randomly shift images horizontally (fraction of total width)\n",
    "        height_shift_range=0,  # randomly shift images vertically (fraction of total height)\n",
    "        horizontal_flip=True,  # randomly flip images\n",
    "        vertical_flip=False)  # randomly flip images\n",
    "\n",
    "    # Compute quantities required for feature-wise normalization\n",
    "    # (std, mean, and principal components if ZCA whitening is applied).\n",
    "    datagen.fit(x_train)\n",
    "\n",
    " # Fit the model on the batches generated by datagen.flow().\n",
    "    model.fit_generator(datagen.flow(x_train, y_train,\n",
    "                                     batch_size=BATCH_SIZE),\n",
    "                        epochs=NUM_EPOCHS,\n",
    "                        validation_data=(x_val, y_val),\n",
    "                        workers=1)"
   ]
  }
 ],
 "metadata": {
  "kernelspec": {
   "display_name": "Python (Deepenv)",
   "language": "python",
   "name": "deepenv"
  },
  "language_info": {
   "codemirror_mode": {
    "name": "ipython",
    "version": 3
   },
   "file_extension": ".py",
   "mimetype": "text/x-python",
   "name": "python",
   "nbconvert_exporter": "python",
   "pygments_lexer": "ipython3",
   "version": "3.9.15"
  }
 },
 "nbformat": 4,
 "nbformat_minor": 5
}
