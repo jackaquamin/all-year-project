{
 "cells": [
  {
   "cell_type": "code",
   "execution_count": 1,
   "id": "1958e154",
   "metadata": {},
   "outputs": [
    {
     "name": "stderr",
     "output_type": "stream",
     "text": [
      "Ultralytics YOLOv8.0.58  Python-3.11.2 torch-2.0.0+cpu CPU\n",
      "Setup complete  (8 CPUs, 7.8 GB RAM, 33.9/931.5 GB disk)\n"
     ]
    }
   ],
   "source": [
    "import ultralytics\n",
    "ultralytics.checks()"
   ]
  },
  {
   "cell_type": "markdown",
   "id": "9b9c165b",
   "metadata": {},
   "source": [
    "### Detection"
   ]
  },
  {
   "cell_type": "code",
   "execution_count": 9,
   "id": "09760ca8",
   "metadata": {},
   "outputs": [
    {
     "name": "stderr",
     "output_type": "stream",
     "text": [
      "Ultralytics YOLOv8.0.58  Python-3.11.2 torch-2.0.0+cpu CPU\n",
      "Model summary (fused): 168 layers, 3006038 parameters, 0 gradients, 8.1 GFLOPs\n",
      "\n",
      "image 1/1 D:\\YOLO\\mask_test2.jpg: 192x224 1 no_mask, 24 masks, 57.7ms\n",
      "Speed: 0.0ms preprocess, 57.7ms inference, 3.5ms postprocess per image at shape (1, 3, 224, 224)\n",
      "Results saved to \u001b[1mruns\\detect\\predict3\u001b[0m\n"
     ]
    }
   ],
   "source": [
    "# Run inference on an image with YOLOv8n\n",
    "!yolo task=detect predict model=maskdetector.pt source='mask_test2.jpg' save=True"
   ]
  },
  {
   "cell_type": "code",
   "execution_count": 4,
   "id": "21a27a75",
   "metadata": {},
   "outputs": [
    {
     "name": "stderr",
     "output_type": "stream",
     "text": [
      "Ultralytics YOLOv8.0.58  Python-3.11.2 torch-2.0.0+cpu CPU\n",
      "YOLOv8n-cls summary (fused): 73 layers, 2715880 parameters, 0 gradients, 4.3 GFLOPs\n",
      "\n",
      "image 1/1 D:\\YOLO\\test2.jpg: 224x224 Border_collie 0.85, collie 0.09, Cardigan 0.02, Shetland_sheepdog 0.01, tennis_ball 0.00, 72.9ms\n",
      "Speed: 0.0ms preprocess, 72.9ms inference, 0.0ms postprocess per image at shape (1, 3, 224, 224)\n",
      "Results saved to \u001b[1mruns\\classify\\predict2\u001b[0m\n"
     ]
    }
   ],
   "source": [
    "!yolo task=classify predict model=yolov8n-cls.pt source='test2.jpg' save=True"
   ]
  },
  {
   "cell_type": "code",
   "execution_count": 6,
   "id": "170ad18a",
   "metadata": {},
   "outputs": [
    {
     "name": "stderr",
     "output_type": "stream",
     "text": [
      "Ultralytics YOLOv8.0.58  Python-3.11.2 torch-2.0.0+cpu CPU\n",
      "YOLOv8n-seg summary (fused): 195 layers, 3404320 parameters, 0 gradients, 12.6 GFLOPs\n",
      "\n",
      "image 1/1 D:\\YOLO\\test1.jpg: 352x640 1 cat, 1 dog, 220.1ms\n",
      "Speed: 0.0ms preprocess, 220.1ms inference, 2.0ms postprocess per image at shape (1, 3, 640, 640)\n",
      "Results saved to \u001b[1mruns\\segment\\predict2\u001b[0m\n"
     ]
    }
   ],
   "source": [
    "!yolo task=segment predict model=yolov8n-seg.pt source='test1.jpg' save=True"
   ]
  }
 ],
 "metadata": {
  "kernelspec": {
   "display_name": "Python (yolo)",
   "language": "python",
   "name": "yolo"
  },
  "language_info": {
   "codemirror_mode": {
    "name": "ipython",
    "version": 3
   },
   "file_extension": ".py",
   "mimetype": "text/x-python",
   "name": "python",
   "nbconvert_exporter": "python",
   "pygments_lexer": "ipython3",
   "version": "3.11.2"
  }
 },
 "nbformat": 4,
 "nbformat_minor": 5
}
