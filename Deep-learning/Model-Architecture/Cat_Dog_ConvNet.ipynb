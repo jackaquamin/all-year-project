{
 "cells": [
  {
   "cell_type": "code",
   "execution_count": 10,
   "id": "4ea6a074",
   "metadata": {},
   "outputs": [
    {
     "name": "stdout",
     "output_type": "stream",
     "text": [
      "Found 2000 images belonging to 2 classes.\n",
      "Found 1000 images belonging to 2 classes.\n"
     ]
    }
   ],
   "source": [
    "#Directories for the training, validation, and test splits\n",
    "train_dir = 'C:/Users/May Phu Paing/OneDrive - KMITL/Desktop/DeepPython/cats_and_dogs_small/train' \n",
    "validation_dir ='C:/Users/May Phu Paing/OneDrive - KMITL/Desktop/DeepPython/cats_and_dogs_small/validation'\n",
    "test_dir = 'C:/Users/May Phu Paing/OneDrive - KMITL/Desktop/DeepPython/cats_and_dogs_small/test' \n",
    "\n",
    "\n",
    "# load the dataset \n",
    "from tensorflow.keras. preprocessing.image import ImageDataGenerator\n",
    "\n",
    "train_datagen = ImageDataGenerator(rescale=1./255)\n",
    "test_datagen = ImageDataGenerator(rescale=1./255)\n",
    "\n",
    "train_generator  = train_datagen.flow_from_directory(\n",
    "    train_dir,\n",
    "    target_size=(150,150),\n",
    "    batch_size=20,\n",
    "    class_mode='binary'\n",
    ")\n",
    "\n",
    "validation_generator  = test_datagen.flow_from_directory(\n",
    "    validation_dir,\n",
    "    target_size=(150,150),\n",
    "    batch_size=20,\n",
    "    class_mode='binary'\n",
    ") \n",
    "\n"
   ]
  },
  {
   "cell_type": "code",
   "execution_count": 11,
   "id": "ab2c13e1",
   "metadata": {},
   "outputs": [
    {
     "name": "stdout",
     "output_type": "stream",
     "text": [
      "data batch shape: (20, 150, 150, 3)\n",
      "labels batch shape: (20,)\n"
     ]
    }
   ],
   "source": [
    "for data_batch, labels_batch in train_generator:\n",
    "    print('data batch shape:', data_batch.shape)\n",
    "    print('labels batch shape:',labels_batch.shape)\n",
    "    break"
   ]
  },
  {
   "cell_type": "code",
   "execution_count": 1,
   "id": "dbff3b96",
   "metadata": {},
   "outputs": [
    {
     "name": "stdout",
     "output_type": "stream",
     "text": [
      "Model: \"sequential\"\n",
      "_________________________________________________________________\n",
      "Layer (type)                 Output Shape              Param #   \n",
      "=================================================================\n",
      "conv2d (Conv2D)              (None, 148, 148, 32)      896       \n",
      "_________________________________________________________________\n",
      "max_pooling2d (MaxPooling2D) (None, 74, 74, 32)        0         \n",
      "_________________________________________________________________\n",
      "conv2d_1 (Conv2D)            (None, 72, 72, 64)        18496     \n",
      "_________________________________________________________________\n",
      "max_pooling2d_1 (MaxPooling2 (None, 36, 36, 64)        0         \n",
      "_________________________________________________________________\n",
      "conv2d_2 (Conv2D)            (None, 34, 34, 128)       73856     \n",
      "_________________________________________________________________\n",
      "max_pooling2d_2 (MaxPooling2 (None, 17, 17, 128)       0         \n",
      "_________________________________________________________________\n",
      "conv2d_3 (Conv2D)            (None, 15, 15, 128)       147584    \n",
      "_________________________________________________________________\n",
      "max_pooling2d_3 (MaxPooling2 (None, 7, 7, 128)         0         \n",
      "_________________________________________________________________\n",
      "flatten (Flatten)            (None, 6272)              0         \n",
      "_________________________________________________________________\n",
      "dense (Dense)                (None, 512)               3211776   \n",
      "_________________________________________________________________\n",
      "dense_1 (Dense)              (None, 1)                 513       \n",
      "=================================================================\n",
      "Total params: 3,453,121\n",
      "Trainable params: 3,453,121\n",
      "Non-trainable params: 0\n",
      "_________________________________________________________________\n"
     ]
    }
   ],
   "source": [
    "# convnet for dog cat classification \n",
    "\n",
    "from tensorflow.keras import layers, models\n",
    "\n",
    "model = models.Sequential()\n",
    "model.add(layers.Conv2D(32, (3, 3), activation='relu',input_shape=(150, 150, 3)))\n",
    "model.add(layers.MaxPooling2D((2, 2)))\n",
    "\n",
    "model.add(layers.Conv2D(64, (3, 3), activation='relu'))\n",
    "model.add(layers.MaxPooling2D((2, 2)))\n",
    "\n",
    "model.add(layers.Conv2D(128, (3, 3), activation='relu'))\n",
    "model.add(layers.MaxPooling2D((2, 2)))\n",
    "\n",
    "model.add(layers.Conv2D(128, (3, 3), activation='relu'))\n",
    "model.add(layers.MaxPooling2D((2, 2)))\n",
    "\n",
    "model.add(layers.Flatten())\n",
    "model.add(layers.Dense(512, activation='relu'))\n",
    "model.add(layers.Dense(1, activation='sigmoid'))\n",
    "\n",
    "model.summary()\n"
   ]
  },
  {
   "cell_type": "code",
   "execution_count": 3,
   "id": "1f1491ba",
   "metadata": {},
   "outputs": [],
   "source": [
    "# compile the model \n",
    "from tensorflow.keras import optimizers\n",
    "model.compile(loss='binary_crossentropy',\n",
    "              optimizer=optimizers.RMSprop(learning_rate=1e-4),\n",
    "              metrics=['acc'])"
   ]
  },
  {
   "cell_type": "code",
   "execution_count": 12,
   "id": "c41ca3f3",
   "metadata": {},
   "outputs": [
    {
     "name": "stderr",
     "output_type": "stream",
     "text": [
      "C:\\Users\\May Phu Paing\\anaconda3\\envs\\DL\\lib\\site-packages\\tensorflow\\python\\keras\\engine\\training.py:1940: UserWarning: `Model.fit_generator` is deprecated and will be removed in a future version. Please use `Model.fit`, which supports generators.\n",
      "  warnings.warn('`Model.fit_generator` is deprecated and '\n"
     ]
    },
    {
     "name": "stdout",
     "output_type": "stream",
     "text": [
      "Epoch 1/30\n",
      "100/100 [==============================] - 43s 418ms/step - loss: 0.6925 - acc: 0.5170 - val_loss: 0.6644 - val_acc: 0.5910\n",
      "Epoch 2/30\n",
      "100/100 [==============================] - 43s 430ms/step - loss: 0.6531 - acc: 0.6065 - val_loss: 0.6627 - val_acc: 0.5820\n",
      "Epoch 3/30\n",
      "100/100 [==============================] - 51s 514ms/step - loss: 0.6106 - acc: 0.6620 - val_loss: 0.6032 - val_acc: 0.6690\n",
      "Epoch 4/30\n",
      "100/100 [==============================] - 81s 815ms/step - loss: 0.5660 - acc: 0.7015 - val_loss: 0.5840 - val_acc: 0.6840\n",
      "Epoch 5/30\n",
      "100/100 [==============================] - 80s 797ms/step - loss: 0.5368 - acc: 0.7275 - val_loss: 0.6133 - val_acc: 0.6620\n",
      "Epoch 6/30\n",
      "100/100 [==============================] - 55s 545ms/step - loss: 0.5147 - acc: 0.7490 - val_loss: 0.5654 - val_acc: 0.7090\n",
      "Epoch 7/30\n",
      "100/100 [==============================] - 54s 540ms/step - loss: 0.4843 - acc: 0.7730 - val_loss: 0.5778 - val_acc: 0.6920\n",
      "Epoch 8/30\n",
      "100/100 [==============================] - 54s 539ms/step - loss: 0.4612 - acc: 0.7830 - val_loss: 0.5661 - val_acc: 0.7090\n",
      "Epoch 9/30\n",
      "100/100 [==============================] - 67s 670ms/step - loss: 0.4360 - acc: 0.7995 - val_loss: 0.5586 - val_acc: 0.7050\n",
      "Epoch 10/30\n",
      "100/100 [==============================] - 66s 660ms/step - loss: 0.4121 - acc: 0.8140 - val_loss: 0.5802 - val_acc: 0.6990\n",
      "Epoch 11/30\n",
      "100/100 [==============================] - 782s 8s/step - loss: 0.3877 - acc: 0.8250 - val_loss: 0.5508 - val_acc: 0.7290\n",
      "Epoch 12/30\n",
      "100/100 [==============================] - 45s 448ms/step - loss: 0.3621 - acc: 0.8385 - val_loss: 0.5682 - val_acc: 0.7180\n",
      "Epoch 13/30\n",
      "100/100 [==============================] - 45s 446ms/step - loss: 0.3424 - acc: 0.8470 - val_loss: 0.5781 - val_acc: 0.7210\n",
      "Epoch 14/30\n",
      "100/100 [==============================] - 44s 439ms/step - loss: 0.3145 - acc: 0.8670 - val_loss: 0.6743 - val_acc: 0.7070\n",
      "Epoch 15/30\n",
      "100/100 [==============================] - 54s 543ms/step - loss: 0.2945 - acc: 0.8750 - val_loss: 0.5812 - val_acc: 0.7330\n",
      "Epoch 16/30\n",
      "100/100 [==============================] - 80s 799ms/step - loss: 0.2758 - acc: 0.8895 - val_loss: 0.5872 - val_acc: 0.7330\n",
      "Epoch 17/30\n",
      "100/100 [==============================] - 71s 713ms/step - loss: 0.2457 - acc: 0.9020 - val_loss: 0.6733 - val_acc: 0.7170\n",
      "Epoch 18/30\n",
      "100/100 [==============================] - 57s 571ms/step - loss: 0.2231 - acc: 0.9115 - val_loss: 0.6096 - val_acc: 0.7350\n",
      "Epoch 19/30\n",
      "100/100 [==============================] - 57s 572ms/step - loss: 0.2020 - acc: 0.9305 - val_loss: 0.6488 - val_acc: 0.7280\n",
      "Epoch 20/30\n",
      "100/100 [==============================] - 55s 549ms/step - loss: 0.1802 - acc: 0.9360 - val_loss: 0.6935 - val_acc: 0.7330\n",
      "Epoch 21/30\n",
      "100/100 [==============================] - 66s 659ms/step - loss: 0.1593 - acc: 0.9415 - val_loss: 0.8008 - val_acc: 0.7100\n",
      "Epoch 22/30\n",
      "100/100 [==============================] - 66s 663ms/step - loss: 0.1505 - acc: 0.9455 - val_loss: 0.7043 - val_acc: 0.7300\n",
      "Epoch 23/30\n",
      "100/100 [==============================] - 66s 658ms/step - loss: 0.1259 - acc: 0.9575 - val_loss: 0.8109 - val_acc: 0.7210\n",
      "Epoch 24/30\n",
      "100/100 [==============================] - 61s 614ms/step - loss: 0.1146 - acc: 0.9630 - val_loss: 0.7747 - val_acc: 0.7250\n",
      "Epoch 25/30\n",
      "100/100 [==============================] - 67s 673ms/step - loss: 0.0917 - acc: 0.9730 - val_loss: 0.8167 - val_acc: 0.7290\n",
      "Epoch 26/30\n",
      "100/100 [==============================] - 72s 716ms/step - loss: 0.0872 - acc: 0.9755 - val_loss: 0.8111 - val_acc: 0.7340\n",
      "Epoch 27/30\n",
      "100/100 [==============================] - 83s 827ms/step - loss: 0.0752 - acc: 0.9780 - val_loss: 0.8085 - val_acc: 0.7390\n",
      "Epoch 28/30\n",
      "100/100 [==============================] - 83s 828ms/step - loss: 0.0543 - acc: 0.9890 - val_loss: 0.9560 - val_acc: 0.7260\n",
      "Epoch 29/30\n",
      "100/100 [==============================] - 71s 706ms/step - loss: 0.0504 - acc: 0.9860 - val_loss: 1.0256 - val_acc: 0.7270\n",
      "Epoch 30/30\n",
      "100/100 [==============================] - 71s 708ms/step - loss: 0.0410 - acc: 0.9890 - val_loss: 0.9555 - val_acc: 0.7370\n"
     ]
    }
   ],
   "source": [
    "# train the model\n",
    "history  = model.fit_generator(train_generator,\n",
    "                              steps_per_epoch=100,\n",
    "                              epochs=30,\n",
    "                              validation_data=validation_generator,\n",
    "                              validation_steps=50)"
   ]
  },
  {
   "cell_type": "code",
   "execution_count": 13,
   "id": "c8d544d8",
   "metadata": {},
   "outputs": [],
   "source": [
    "#save the trained model\n",
    "model.save('cats_and_dogs_small_1.h5')"
   ]
  },
  {
   "cell_type": "code",
   "execution_count": 14,
   "id": "e0ae3a9e",
   "metadata": {},
   "outputs": [
    {
     "data": {
      "image/png": "[encoded data removed]",
      "text/plain": [
       "<Figure size 432x288 with 1 Axes>"
      ]
     },
     "metadata": {
      "needs_background": "light"
     },
     "output_type": "display_data"
    },
    {
     "data": {
      "image/png": "[encoded data removed]",
      "text/plain": [
       "<Figure size 432x288 with 1 Axes>"
      ]
     },
     "metadata": {
      "needs_background": "light"
     },
     "output_type": "display_data"
    }
   ],
   "source": [
    "import matplotlib.pyplot as plt\n",
    "\n",
    "acc = history.history['acc']\n",
    "val_acc = history.history['val_acc']\n",
    "loss = history.history['loss']\n",
    "val_loss = history.history['val_loss']\n",
    "\n",
    "epochs = range(1, len(acc) + 1)\n",
    "\n",
    "plt.plot(epochs, acc, 'bo', label='Training acc')\n",
    "plt.plot(epochs, val_acc, 'b', label='Validation acc')\n",
    "plt.title('Training and validation accuracy')\n",
    "plt.legend()\n",
    "plt.figure()\n",
    "\n",
    "\n",
    "plt.plot(epochs, loss, 'bo', label='Training loss')\n",
    "plt.plot(epochs, val_loss, 'b', label='Validation loss')\n",
    "plt.title('Training and validation loss')\n",
    "plt.legend()\n",
    "plt.show()"
   ]
  }
 ],
 "metadata": {
  "kernelspec": {
   "display_name": "Python (Deepenv)",
   "language": "python",
   "name": "deepenv"
  },
  "language_info": {
   "codemirror_mode": {
    "name": "ipython",
    "version": 3
   },
   "file_extension": ".py",
   "mimetype": "text/x-python",
   "name": "python",
   "nbconvert_exporter": "python",
   "pygments_lexer": "ipython3",
   "version": "3.9.15"
  }
 },
 "nbformat": 4,
 "nbformat_minor": 5
}
