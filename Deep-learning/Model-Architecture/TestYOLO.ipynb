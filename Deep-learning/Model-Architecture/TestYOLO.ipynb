{
 "cells": [
  {
   "cell_type": "code",
   "execution_count": 1,
   "id": "ab88152e",
   "metadata": {},
   "outputs": [
    {
     "name": "stderr",
     "output_type": "stream",
     "text": [
      "Ultralytics YOLOv8.0.57  Python-3.9.16 torch-2.0.0+cpu CPU\n",
      "Setup complete  (16 CPUs, 31.9 GB RAM, 655.9/953.9 GB disk)\n"
     ]
    }
   ],
   "source": [
    "import ultralytics\n",
    "ultralytics.checks()"
   ]
  },
  {
   "cell_type": "markdown",
   "id": "6f2d8c25",
   "metadata": {},
   "source": [
    "### Detection"
   ]
  },
  {
   "cell_type": "code",
   "execution_count": 4,
   "id": "7ff29103",
   "metadata": {},
   "outputs": [
    {
     "name": "stderr",
     "output_type": "stream",
     "text": [
      "Ultralytics YOLOv8.0.57  Python-3.9.16 torch-2.0.0+cpu CPU\n",
      "YOLOv8n summary (fused): 168 layers, 3151904 parameters, 0 gradients, 8.7 GFLOPs\n",
      "\n",
      "Found https://ultralytics.com/images/kite.png locally at kite.png\n",
      "image 1/1 D:\\Yolo8Projs\\kite.png: 640x640 5 kites, 105.2ms\n",
      "Speed: 0.0ms preprocess, 105.2ms inference, 2.1ms postprocess per image at shape (1, 3, 640, 640)\n",
      "Results saved to \u001b[1mruns\\detect\\predict2\u001b[0m\n"
     ]
    }
   ],
   "source": [
    "# Run inference on an image with YOLOv8n\n",
    "!yolo predict model=yolov8n.pt source='https://ultralytics.com/images/kite.png' save=True"
   ]
  },
  {
   "cell_type": "markdown",
   "id": "12f11786",
   "metadata": {},
   "source": [
    "### Segmentation"
   ]
  },
  {
   "cell_type": "code",
   "execution_count": 6,
   "id": "c4cdce5e",
   "metadata": {},
   "outputs": [
    {
     "name": "stderr",
     "output_type": "stream",
     "text": [
      "Ultralytics YOLOv8.0.57  Python-3.9.16 torch-2.0.0+cpu CPU\n",
      "YOLOv8n-seg summary (fused): 195 layers, 3404320 parameters, 0 gradients, 12.6 GFLOPs\n",
      "\n",
      "Found https://ultralytics.com/images/cup.jpg locally at cup.jpg\n",
      "image 1/1 D:\\Yolo8Projs\\cup.jpg: 480x640 1 wine glass, 2 cups, 1 fork, 1 spoon, 2 bowls, 1 dining table, 87.0ms\n",
      "Speed: 0.0ms preprocess, 87.0ms inference, 0.0ms postprocess per image at shape (1, 3, 640, 640)\n",
      "Results saved to \u001b[1mruns\\segment\\predict2\u001b[0m\n"
     ]
    }
   ],
   "source": [
    "# Run inference on an image with YOLOv8n (Segmentation)\n",
    "!yolo task=segment predict model=yolov8n-seg.pt source='https://ultralytics.com/images/cup.jpg' save=True"
   ]
  }
 ],
 "metadata": {
  "kernelspec": {
   "display_name": "Python (yolo)",
   "language": "python",
   "name": "yolo"
  },
  "language_info": {
   "codemirror_mode": {
    "name": "ipython",
    "version": 3
   },
   "file_extension": ".py",
   "mimetype": "text/x-python",
   "name": "python",
   "nbconvert_exporter": "python",
   "pygments_lexer": "ipython3",
   "version": "3.11.2"
  }
 },
 "nbformat": 4,
 "nbformat_minor": 5
}
