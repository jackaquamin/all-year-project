{
 "cells": [
  {
   "cell_type": "code",
   "execution_count": 4,
   "id": "bc936d8c",
   "metadata": {},
   "outputs": [
    {
     "name": "stdout",
     "output_type": "stream",
     "text": [
      "Downloading data from https://storage.googleapis.com/tensorflow/keras-applications/vgg16/vgg16_weights_tf_dim_ordering_tf_kernels_notop.h5\n",
      "58892288/58889256 [==============================] - 6s 0us/step\n"
     ]
    }
   ],
   "source": [
    "from tensorflow.keras.applications import VGG16\n",
    "\n",
    "conv_base = VGG16(weights='imagenet',\n",
    "                  include_top=False,\n",
    "                  input_shape=(150, 150, 3))"
   ]
  },
  {
   "cell_type": "code",
   "execution_count": 5,
   "id": "924683c2",
   "metadata": {},
   "outputs": [
    {
     "name": "stdout",
     "output_type": "stream",
     "text": [
      "Model: \"vgg16\"\n",
      "_________________________________________________________________\n",
      "Layer (type)                 Output Shape              Param #   \n",
      "=================================================================\n",
      "input_3 (InputLayer)         [(None, 150, 150, 3)]     0         \n",
      "_________________________________________________________________\n",
      "block1_conv1 (Conv2D)        (None, 150, 150, 64)      1792      \n",
      "_________________________________________________________________\n",
      "block1_conv2 (Conv2D)        (None, 150, 150, 64)      36928     \n",
      "_________________________________________________________________\n",
      "block1_pool (MaxPooling2D)   (None, 75, 75, 64)        0         \n",
      "_________________________________________________________________\n",
      "block2_conv1 (Conv2D)        (None, 75, 75, 128)       73856     \n",
      "_________________________________________________________________\n",
      "block2_conv2 (Conv2D)        (None, 75, 75, 128)       147584    \n",
      "_________________________________________________________________\n",
      "block2_pool (MaxPooling2D)   (None, 37, 37, 128)       0         \n",
      "_________________________________________________________________\n",
      "block3_conv1 (Conv2D)        (None, 37, 37, 256)       295168    \n",
      "_________________________________________________________________\n",
      "block3_conv2 (Conv2D)        (None, 37, 37, 256)       590080    \n",
      "_________________________________________________________________\n",
      "block3_conv3 (Conv2D)        (None, 37, 37, 256)       590080    \n",
      "_________________________________________________________________\n",
      "block3_pool (MaxPooling2D)   (None, 18, 18, 256)       0         \n",
      "_________________________________________________________________\n",
      "block4_conv1 (Conv2D)        (None, 18, 18, 512)       1180160   \n",
      "_________________________________________________________________\n",
      "block4_conv2 (Conv2D)        (None, 18, 18, 512)       2359808   \n",
      "_________________________________________________________________\n",
      "block4_conv3 (Conv2D)        (None, 18, 18, 512)       2359808   \n",
      "_________________________________________________________________\n",
      "block4_pool (MaxPooling2D)   (None, 9, 9, 512)         0         \n",
      "_________________________________________________________________\n",
      "block5_conv1 (Conv2D)        (None, 9, 9, 512)         2359808   \n",
      "_________________________________________________________________\n",
      "block5_conv2 (Conv2D)        (None, 9, 9, 512)         2359808   \n",
      "_________________________________________________________________\n",
      "block5_conv3 (Conv2D)        (None, 9, 9, 512)         2359808   \n",
      "_________________________________________________________________\n",
      "block5_pool (MaxPooling2D)   (None, 4, 4, 512)         0         \n",
      "=================================================================\n",
      "Total params: 14,714,688\n",
      "Trainable params: 14,714,688\n",
      "Non-trainable params: 0\n",
      "_________________________________________________________________\n"
     ]
    }
   ],
   "source": [
    "conv_base.summary()"
   ]
  },
  {
   "cell_type": "code",
   "execution_count": 6,
   "id": "aa7be0ca",
   "metadata": {},
   "outputs": [],
   "source": [
    "import os\n",
    "import numpy as np\n",
    "from tensorflow.keras.preprocessing.image import ImageDataGenerator"
   ]
  },
  {
   "cell_type": "code",
   "execution_count": 16,
   "id": "a136646a",
   "metadata": {},
   "outputs": [],
   "source": [
    "#Directories for the training, validation, and test splits\n",
    "train_dir = 'C:\\\\Users\\\\HP\\\\Downloads\\\\cats_and_dogs_small\\\\train'\n",
    "validation_dir = 'C:\\\\Users\\\\HP\\\\Downloads\\\\cats_and_dogs_small\\\\validation'\n",
    "test_dir = 'C:\\\\Users\\\\HP\\\\Downloads\\\\cats_and_dogs_small\\\\test'\n",
    "datagen = ImageDataGenerator(rescale=1./255)\n",
    "batch_size = 32"
   ]
  },
  {
   "cell_type": "code",
   "execution_count": 18,
   "id": "2a1a4258",
   "metadata": {},
   "outputs": [],
   "source": [
    "def extract_features(directory, sample_count):\n",
    "    # directory = the image file path\n",
    "    # sample_count = how many sample in train or val or test\n",
    "    \n",
    "    features = np.zeros(shape=(sample_count, 4, 4, 512))\n",
    "    labels = np.zeros(shape=(sample_count))\n",
    "    \n",
    "    generator = datagen.flow_from_directory(directory,\n",
    "                                            target_size=(150, 150),\n",
    "                                            batch_size=batch_size,\n",
    "                                            class_mode='binary')\n",
    "    \n",
    "    i = 0\n",
    "    for inputs_batch, labels_batch in generator:\n",
    "        features_batch = conv_base.predict(inputs_batch)\n",
    "        features[i * batch_size : (i + 1) * batch_size] = features_batch\n",
    "        labels[i * batch_size : (i + 1) * batch_size] = labels_batch\n",
    "        i += 1\n",
    "        if i * batch_size >= sample_count:\n",
    "            break\n",
    "            \n",
    "    return features, labels"
   ]
  },
  {
   "cell_type": "code",
   "execution_count": 19,
   "id": "3211031a",
   "metadata": {},
   "outputs": [
    {
     "name": "stdout",
     "output_type": "stream",
     "text": [
      "Found 2000 images belonging to 2 classes.\n",
      "Found 1000 images belonging to 2 classes.\n",
      "Found 1000 images belonging to 2 classes.\n"
     ]
    }
   ],
   "source": [
    "train_features, train_labels = extract_features(train_dir, 2000)\n",
    "validation_features, validation_labels = extract_features(validation_dir, 1000)\n",
    "test_features, test_labels = extract_features(test_dir, 1000)"
   ]
  },
  {
   "cell_type": "code",
   "execution_count": 20,
   "id": "89f5b3e5",
   "metadata": {},
   "outputs": [
    {
     "data": {
      "text/plain": [
       "(2000, 4, 4, 512)"
      ]
     },
     "execution_count": 20,
     "metadata": {},
     "output_type": "execute_result"
    }
   ],
   "source": [
    "train_features.shape"
   ]
  },
  {
   "cell_type": "code",
   "execution_count": 21,
   "id": "207e4f6a",
   "metadata": {},
   "outputs": [],
   "source": [
    "#flatten\n",
    "train_features = np.reshape(train_features, (2000, 4 * 4 * 512))\n",
    "validation_features = np.reshape(validation_features, (1000, 4 * 4 * 512))\n",
    "test_features = np.reshape(test_features, (1000, 4 * 4 * 512))"
   ]
  },
  {
   "cell_type": "code",
   "execution_count": 23,
   "id": "117c575c",
   "metadata": {},
   "outputs": [
    {
     "name": "stdout",
     "output_type": "stream",
     "text": [
      "Epoch 1/30\n",
      "63/63 [==============================] - 3s 37ms/step - loss: 0.6499 - acc: 0.6275 - val_loss: 0.4841 - val_acc: 0.8210\n",
      "Epoch 2/30\n",
      "63/63 [==============================] - 2s 34ms/step - loss: 0.4866 - acc: 0.7700 - val_loss: 0.3967 - val_acc: 0.8460\n",
      "Epoch 3/30\n",
      "63/63 [==============================] - 2s 34ms/step - loss: 0.3842 - acc: 0.8390 - val_loss: 0.3490 - val_acc: 0.8690\n",
      "Epoch 4/30\n",
      "63/63 [==============================] - 2s 34ms/step - loss: 0.3490 - acc: 0.8525 - val_loss: 0.3224 - val_acc: 0.8790\n",
      "Epoch 5/30\n",
      "63/63 [==============================] - 2s 35ms/step - loss: 0.3162 - acc: 0.8760 - val_loss: 0.3030 - val_acc: 0.8820\n",
      "Epoch 6/30\n",
      "63/63 [==============================] - 3s 42ms/step - loss: 0.2961 - acc: 0.8850 - val_loss: 0.2883 - val_acc: 0.8900\n",
      "Epoch 7/30\n",
      "63/63 [==============================] - 3s 40ms/step - loss: 0.2726 - acc: 0.8905 - val_loss: 0.2794 - val_acc: 0.8870\n",
      "Epoch 8/30\n",
      "63/63 [==============================] - 3s 42ms/step - loss: 0.2611 - acc: 0.8990 - val_loss: 0.2841 - val_acc: 0.8840\n",
      "Epoch 9/30\n",
      "63/63 [==============================] - 2s 37ms/step - loss: 0.2407 - acc: 0.9075 - val_loss: 0.2630 - val_acc: 0.8960\n",
      "Epoch 10/30\n",
      "63/63 [==============================] - 2s 37ms/step - loss: 0.2313 - acc: 0.9110 - val_loss: 0.2582 - val_acc: 0.9000A: 1s - loss: 0.2\n",
      "Epoch 11/30\n",
      "63/63 [==============================] - 2s 34ms/step - loss: 0.2178 - acc: 0.9175 - val_loss: 0.2541 - val_acc: 0.9020\n",
      "Epoch 12/30\n",
      "63/63 [==============================] - 2s 36ms/step - loss: 0.2174 - acc: 0.9135 - val_loss: 0.2489 - val_acc: 0.9010\n",
      "Epoch 13/30\n",
      "63/63 [==============================] - 2s 38ms/step - loss: 0.2025 - acc: 0.9280 - val_loss: 0.2477 - val_acc: 0.8960\n",
      "Epoch 14/30\n",
      "63/63 [==============================] - 2s 38ms/step - loss: 0.1911 - acc: 0.9345 - val_loss: 0.2419 - val_acc: 0.9000\n",
      "Epoch 15/30\n",
      "63/63 [==============================] - 2s 38ms/step - loss: 0.1885 - acc: 0.9335 - val_loss: 0.2414 - val_acc: 0.8990\n",
      "Epoch 16/30\n",
      "63/63 [==============================] - 3s 40ms/step - loss: 0.1806 - acc: 0.9310 - val_loss: 0.2403 - val_acc: 0.9070\n",
      "Epoch 17/30\n",
      "63/63 [==============================] - 2s 37ms/step - loss: 0.1733 - acc: 0.9400 - val_loss: 0.2541 - val_acc: 0.8920\n",
      "Epoch 18/30\n",
      "63/63 [==============================] - 2s 36ms/step - loss: 0.1647 - acc: 0.9415 - val_loss: 0.2383 - val_acc: 0.8970\n",
      "Epoch 19/30\n",
      "63/63 [==============================] - 2s 36ms/step - loss: 0.1624 - acc: 0.9415 - val_loss: 0.2419 - val_acc: 0.8980\n",
      "Epoch 20/30\n",
      "63/63 [==============================] - 2s 37ms/step - loss: 0.1560 - acc: 0.9450 - val_loss: 0.2404 - val_acc: 0.8980\n",
      "Epoch 21/30\n",
      "63/63 [==============================] - 2s 37ms/step - loss: 0.1497 - acc: 0.9525 - val_loss: 0.2338 - val_acc: 0.9040\n",
      "Epoch 22/30\n",
      "63/63 [==============================] - 2s 39ms/step - loss: 0.1415 - acc: 0.9540 - val_loss: 0.2347 - val_acc: 0.9000\n",
      "Epoch 23/30\n",
      "63/63 [==============================] - 2s 39ms/step - loss: 0.1406 - acc: 0.9485 - val_loss: 0.2353 - val_acc: 0.9000\n",
      "Epoch 24/30\n",
      "63/63 [==============================] - 2s 37ms/step - loss: 0.1330 - acc: 0.9575 - val_loss: 0.2414 - val_acc: 0.9000\n",
      "Epoch 25/30\n",
      "63/63 [==============================] - 2s 38ms/step - loss: 0.1283 - acc: 0.9595 - val_loss: 0.2309 - val_acc: 0.9040\n",
      "Epoch 26/30\n",
      "63/63 [==============================] - 3s 43ms/step - loss: 0.1270 - acc: 0.9585 - val_loss: 0.2313 - val_acc: 0.9040\n",
      "Epoch 27/30\n",
      "63/63 [==============================] - 2s 39ms/step - loss: 0.1156 - acc: 0.9630 - val_loss: 0.2329 - val_acc: 0.9040\n",
      "Epoch 28/30\n",
      "63/63 [==============================] - 2s 38ms/step - loss: 0.1192 - acc: 0.9580 - val_loss: 0.2331 - val_acc: 0.9060\n",
      "Epoch 29/30\n",
      "63/63 [==============================] - 2s 39ms/step - loss: 0.1116 - acc: 0.9660 - val_loss: 0.2313 - val_acc: 0.9020\n",
      "Epoch 30/30\n",
      "63/63 [==============================] - 3s 41ms/step - loss: 0.1068 - acc: 0.9655 - val_loss: 0.2384 - val_acc: 0.9040\n"
     ]
    }
   ],
   "source": [
    "# Define the densely connected classifier\n",
    "from tensorflow.keras import models\n",
    "from tensorflow.keras import layers\n",
    "from tensorflow.keras import optimizers\n",
    "\n",
    "model = models.Sequential()\n",
    "model.add(layers.Dense(256, activation='relu', input_dim=4 * 4 * 512))\n",
    "model.add(layers.Dropout(0.5))\n",
    "model.add(layers.Dense(1, activation='sigmoid'))\n",
    "\n",
    "model.compile(optimizer=optimizers.RMSprop(learning_rate=2e-5),\n",
    "              loss='binary_crossentropy',\n",
    "              metrics=['acc'])\n",
    "\n",
    "\n",
    "history = model.fit(train_features, train_labels,\n",
    "                    epochs=30,\n",
    "                    batch_size=32,\n",
    "                    validation_data=(validation_features, validation_labels))"
   ]
  },
  {
   "cell_type": "code",
   "execution_count": 25,
   "id": "ace4f5e3",
   "metadata": {},
   "outputs": [
    {
     "data": {
      "image/png": "[encoded data removed]",
      "text/plain": [
       "<Figure size 640x480 with 1 Axes>"
      ]
     },
     "metadata": {},
     "output_type": "display_data"
    },
    {
     "data": {
      "image/png": "[encoded data removed]",
      "text/plain": [
       "<Figure size 640x480 with 1 Axes>"
      ]
     },
     "metadata": {},
     "output_type": "display_data"
    }
   ],
   "source": [
    "import matplotlib.pyplot as plt\n",
    "\n",
    "acc = history.history['acc']\n",
    "val_acc = history.history['val_acc']\n",
    "loss = history.history['loss']\n",
    "val_loss = history.history['val_loss']\n",
    "epochs = range(1, len(acc) + 1)\n",
    "\n",
    "plt.plot(epochs, acc, 'bo', label='Training acc')\n",
    "plt.plot(epochs, val_acc, 'b', label='Validation acc')\n",
    "plt.title('Training and validation accuracy')\n",
    "plt.legend()\n",
    "\n",
    "plt.figure()\n",
    "plt.plot(epochs, loss, 'bo', label='Training loss')\n",
    "plt.plot(epochs, val_loss, 'b', label='Validation loss')\n",
    "plt.title('Training and validation loss')\n",
    "plt.legend()\n",
    "\n",
    "plt.show()"
   ]
  },
  {
   "cell_type": "markdown",
   "id": "9bb00e89",
   "metadata": {},
   "source": [
    "# Feature Extraction with Augmentation"
   ]
  },
  {
   "cell_type": "code",
   "execution_count": 26,
   "id": "dcae87ce",
   "metadata": {},
   "outputs": [],
   "source": [
    "#Adding a densely connected classifier on top of the convolutional base\n",
    "from tensorflow.keras import models\n",
    "from tensorflow.keras import layers\n",
    "\n",
    "model = models.Sequential()\n",
    "model.add(conv_base)\n",
    "model.add(layers.Flatten())\n",
    "model.add(layers.Dense(256, activation='relu'))\n",
    "model.add(layers.Dense(1, activation='sigmoid'))"
   ]
  },
  {
   "cell_type": "code",
   "execution_count": 27,
   "id": "c20f00ac",
   "metadata": {},
   "outputs": [
    {
     "name": "stdout",
     "output_type": "stream",
     "text": [
      "Model: \"sequential_2\"\n",
      "_________________________________________________________________\n",
      "Layer (type)                 Output Shape              Param #   \n",
      "=================================================================\n",
      "vgg16 (Functional)           (None, 4, 4, 512)         14714688  \n",
      "_________________________________________________________________\n",
      "flatten (Flatten)            (None, 8192)              0         \n",
      "_________________________________________________________________\n",
      "dense_4 (Dense)              (None, 256)               2097408   \n",
      "_________________________________________________________________\n",
      "dense_5 (Dense)              (None, 1)                 257       \n",
      "=================================================================\n",
      "Total params: 16,812,353\n",
      "Trainable params: 16,812,353\n",
      "Non-trainable params: 0\n",
      "_________________________________________________________________\n"
     ]
    }
   ],
   "source": [
    "model.summary()"
   ]
  },
  {
   "cell_type": "code",
   "execution_count": 28,
   "id": "69fafb0c",
   "metadata": {},
   "outputs": [
    {
     "name": "stdout",
     "output_type": "stream",
     "text": [
      "This is the number of trainable weights before freezing the conv base: 30\n"
     ]
    }
   ],
   "source": [
    "print('This is the number of trainable weights '\n",
    "'before freezing the conv base:', len(model.trainable_weights))"
   ]
  },
  {
   "cell_type": "code",
   "execution_count": 29,
   "id": "64af9300",
   "metadata": {},
   "outputs": [
    {
     "name": "stdout",
     "output_type": "stream",
     "text": [
      "This is the number of trainable weights after freezing the conv base: 4\n"
     ]
    }
   ],
   "source": [
    "conv_base.trainable = False\n",
    "print('This is the number of trainable weights '\n",
    "'after freezing the conv base:', len(model.trainable_weights))"
   ]
  },
  {
   "cell_type": "code",
   "execution_count": 31,
   "id": "c4ba296f",
   "metadata": {},
   "outputs": [
    {
     "name": "stdout",
     "output_type": "stream",
     "text": [
      "Found 2000 images belonging to 2 classes.\n",
      "Found 1000 images belonging to 2 classes.\n",
      "Epoch 1/30\n",
      "100/100 [==============================] - 236s 2s/step - loss: 0.5029 - acc: 0.7715 - val_loss: 0.3855 - val_acc: 0.8430\n",
      "Epoch 2/30\n",
      "100/100 [==============================] - 242s 2s/step - loss: 0.4350 - acc: 0.8085 - val_loss: 0.3434 - val_acc: 0.8480\n",
      "Epoch 3/30\n",
      "100/100 [==============================] - 231s 2s/step - loss: 0.4101 - acc: 0.8100 - val_loss: 0.3129 - val_acc: 0.8720\n",
      "Epoch 4/30\n",
      "100/100 [==============================] - 231s 2s/step - loss: 0.3742 - acc: 0.8395 - val_loss: 0.3076 - val_acc: 0.8670\n",
      "Epoch 5/30\n",
      "100/100 [==============================] - 232s 2s/step - loss: 0.3810 - acc: 0.8275 - val_loss: 0.2869 - val_acc: 0.8830\n",
      "Epoch 6/30\n",
      "100/100 [==============================] - 231s 2s/step - loss: 0.3616 - acc: 0.8450 - val_loss: 0.2792 - val_acc: 0.8870\n",
      "Epoch 7/30\n",
      "100/100 [==============================] - 229s 2s/step - loss: 0.3458 - acc: 0.8595 - val_loss: 0.2678 - val_acc: 0.8900\n",
      "Epoch 8/30\n",
      "100/100 [==============================] - 235s 2s/step - loss: 0.3513 - acc: 0.8385 - val_loss: 0.2640 - val_acc: 0.8950\n",
      "Epoch 9/30\n",
      "100/100 [==============================] - 236s 2s/step - loss: 0.3407 - acc: 0.8485 - val_loss: 0.2586 - val_acc: 0.8930\n",
      "Epoch 10/30\n",
      "100/100 [==============================] - 233s 2s/step - loss: 0.3218 - acc: 0.8575 - val_loss: 0.2549 - val_acc: 0.8950\n",
      "Epoch 11/30\n",
      "100/100 [==============================] - 231s 2s/step - loss: 0.3476 - acc: 0.8460 - val_loss: 0.2514 - val_acc: 0.8940\n",
      "Epoch 12/30\n",
      "100/100 [==============================] - 229s 2s/step - loss: 0.3200 - acc: 0.8585 - val_loss: 0.2508 - val_acc: 0.8970\n",
      "Epoch 13/30\n",
      "100/100 [==============================] - 230s 2s/step - loss: 0.3063 - acc: 0.8700 - val_loss: 0.2456 - val_acc: 0.8980\n",
      "Epoch 14/30\n",
      "100/100 [==============================] - 233s 2s/step - loss: 0.3207 - acc: 0.8645 - val_loss: 0.2443 - val_acc: 0.8890\n",
      "Epoch 15/30\n",
      "100/100 [==============================] - 230s 2s/step - loss: 0.3004 - acc: 0.8750 - val_loss: 0.2445 - val_acc: 0.8970\n",
      "Epoch 16/30\n",
      "100/100 [==============================] - 232s 2s/step - loss: 0.2968 - acc: 0.8745 - val_loss: 0.2449 - val_acc: 0.8950\n",
      "Epoch 17/30\n",
      "100/100 [==============================] - 232s 2s/step - loss: 0.2865 - acc: 0.8835 - val_loss: 0.2522 - val_acc: 0.8870\n",
      "Epoch 18/30\n",
      "100/100 [==============================] - 227s 2s/step - loss: 0.3025 - acc: 0.8640 - val_loss: 0.2572 - val_acc: 0.8940\n",
      "Epoch 19/30\n",
      "100/100 [==============================] - 232s 2s/step - loss: 0.3050 - acc: 0.8745 - val_loss: 0.2413 - val_acc: 0.8930\n",
      "Epoch 20/30\n",
      "100/100 [==============================] - 232s 2s/step - loss: 0.2924 - acc: 0.8730 - val_loss: 0.2512 - val_acc: 0.8920\n",
      "Epoch 21/30\n",
      "100/100 [==============================] - 231s 2s/step - loss: 0.3082 - acc: 0.8630 - val_loss: 0.2605 - val_acc: 0.8930\n",
      "Epoch 22/30\n",
      "100/100 [==============================] - 232s 2s/step - loss: 0.2904 - acc: 0.8705 - val_loss: 0.2713 - val_acc: 0.8930\n",
      "Epoch 23/30\n",
      "100/100 [==============================] - 231s 2s/step - loss: 0.2876 - acc: 0.8800 - val_loss: 0.2383 - val_acc: 0.8970\n",
      "Epoch 24/30\n",
      "100/100 [==============================] - 233s 2s/step - loss: 0.2884 - acc: 0.8715 - val_loss: 0.2521 - val_acc: 0.9040\n",
      "Epoch 25/30\n",
      "100/100 [==============================] - 230s 2s/step - loss: 0.2856 - acc: 0.8760 - val_loss: 0.2495 - val_acc: 0.8970\n",
      "Epoch 26/30\n",
      "100/100 [==============================] - 230s 2s/step - loss: 0.2902 - acc: 0.8750 - val_loss: 0.2386 - val_acc: 0.8970\n",
      "Epoch 27/30\n",
      "100/100 [==============================] - 231s 2s/step - loss: 0.2930 - acc: 0.8755 - val_loss: 0.2372 - val_acc: 0.9040\n",
      "Epoch 28/30\n",
      "100/100 [==============================] - 231s 2s/step - loss: 0.2737 - acc: 0.8910 - val_loss: 0.2369 - val_acc: 0.9000\n",
      "Epoch 29/30\n",
      "100/100 [==============================] - 232s 2s/step - loss: 0.2832 - acc: 0.8805 - val_loss: 0.2363 - val_acc: 0.8980\n",
      "Epoch 30/30\n",
      "100/100 [==============================] - 231s 2s/step - loss: 0.2830 - acc: 0.8790 - val_loss: 0.2410 - val_acc: 0.9000\n"
     ]
    }
   ],
   "source": [
    "from tensorflow.keras.preprocessing.image import ImageDataGenerator\n",
    "from tensorflow.keras import optimizers\n",
    "\n",
    "train_datagen = ImageDataGenerator(\n",
    "rescale=1./255,\n",
    "rotation_range=40,\n",
    "width_shift_range=0.2,\n",
    "height_shift_range=0.2,\n",
    "shear_range=0.2,\n",
    "zoom_range=0.2,\n",
    "horizontal_flip=True,\n",
    "fill_mode='nearest')\n",
    "\n",
    "\n",
    "test_datagen = ImageDataGenerator(rescale=1./255)\n",
    "train_generator = train_datagen.flow_from_directory(train_dir,\n",
    "                                                    target_size=(150, 150),\n",
    "                                                    batch_size=20,\n",
    "                                                    class_mode='binary')\n",
    "\n",
    "\n",
    "validation_generator = test_datagen.flow_from_directory(validation_dir,\n",
    "                                                        target_size=(150, 150),\n",
    "                                                        batch_size=20,\n",
    "                                                        class_mode='binary')\n",
    "\n",
    "\n",
    "model.compile(loss='binary_crossentropy',optimizer=optimizers.RMSprop(lr=2e-5),\n",
    "              metrics=['acc'])\n",
    "\n",
    "\n",
    "history = model.fit_generator(train_generator,steps_per_epoch=100,epochs=30,\n",
    "validation_data=validation_generator,validation_steps=50)"
   ]
  },
  {
   "cell_type": "code",
   "execution_count": 32,
   "id": "50f78a44",
   "metadata": {},
   "outputs": [
    {
     "data": {
      "image/png": "[encoded data removed]",
      "text/plain": [
       "<Figure size 640x480 with 1 Axes>"
      ]
     },
     "metadata": {},
     "output_type": "display_data"
    },
    {
     "data": {
      "image/png": "[encoded data removed]",
      "text/plain": [
       "<Figure size 640x480 with 1 Axes>"
      ]
     },
     "metadata": {},
     "output_type": "display_data"
    }
   ],
   "source": [
    "import matplotlib.pyplot as plt\n",
    "\n",
    "acc = history.history['acc']\n",
    "val_acc = history.history['val_acc']\n",
    "loss = history.history['loss']\n",
    "val_loss = history.history['val_loss']\n",
    "epochs = range(1, len(acc) + 1)\n",
    "\n",
    "plt.plot(epochs, acc, 'bo', label='Training acc')\n",
    "plt.plot(epochs, val_acc, 'b', label='Validation acc')\n",
    "plt.title('Training and validation accuracy')\n",
    "plt.legend()\n",
    "\n",
    "plt.figure()\n",
    "plt.plot(epochs, loss, 'bo', label='Training loss')\n",
    "plt.plot(epochs, val_loss, 'b', label='Validation loss')\n",
    "plt.title('Training and validation loss')\n",
    "plt.legend()\n",
    "plt.show()"
   ]
  },
  {
   "cell_type": "code",
   "execution_count": 33,
   "id": "d352c347",
   "metadata": {},
   "outputs": [],
   "source": [
    "# Fine-Tuning\n",
    "conv_base.trainable = True\n",
    "set_trainable = False\n",
    "for layer in conv_base.layers:\n",
    "    if layer.name == 'block5_conv1':\n",
    "        set_trainable = True\n",
    "    if set_trainable:\n",
    "        layer.trainable = True\n",
    "    else:\n",
    "        layer.trainable = False"
   ]
  },
  {
   "cell_type": "code",
   "execution_count": 34,
   "id": "1adedcf5",
   "metadata": {},
   "outputs": [
    {
     "name": "stdout",
     "output_type": "stream",
     "text": [
      "Epoch 1/100\n",
      "100/100 [==============================] - 261s 3s/step - loss: 0.2836 - acc: 0.8815 - val_loss: 0.2290 - val_acc: 0.9010\n",
      "Epoch 2/100\n",
      "100/100 [==============================] - 265s 3s/step - loss: 0.2636 - acc: 0.8850 - val_loss: 0.2127 - val_acc: 0.9190\n",
      "Epoch 3/100\n",
      "100/100 [==============================] - 267s 3s/step - loss: 0.2447 - acc: 0.9075 - val_loss: 0.2058 - val_acc: 0.9190\n",
      "Epoch 4/100\n",
      "100/100 [==============================] - 267s 3s/step - loss: 0.2226 - acc: 0.9030 - val_loss: 0.1967 - val_acc: 0.9230\n",
      "Epoch 5/100\n",
      "100/100 [==============================] - 266s 3s/step - loss: 0.2117 - acc: 0.9110 - val_loss: 0.1962 - val_acc: 0.9240\n",
      "Epoch 6/100\n",
      "100/100 [==============================] - 269s 3s/step - loss: 0.1919 - acc: 0.9150 - val_loss: 0.2983 - val_acc: 0.8900\n",
      "Epoch 7/100\n",
      "100/100 [==============================] - 268s 3s/step - loss: 0.1783 - acc: 0.9300 - val_loss: 0.2392 - val_acc: 0.9110\n",
      "Epoch 8/100\n",
      "100/100 [==============================] - 270s 3s/step - loss: 0.1709 - acc: 0.9295 - val_loss: 0.1957 - val_acc: 0.9210\n",
      "Epoch 9/100\n",
      "100/100 [==============================] - 269s 3s/step - loss: 0.1582 - acc: 0.9315 - val_loss: 0.2434 - val_acc: 0.9130\n",
      "Epoch 10/100\n",
      "100/100 [==============================] - 268s 3s/step - loss: 0.1690 - acc: 0.9295 - val_loss: 0.2088 - val_acc: 0.9240\n",
      "Epoch 11/100\n",
      "100/100 [==============================] - 265s 3s/step - loss: 0.1421 - acc: 0.9435 - val_loss: 0.2071 - val_acc: 0.9240\n",
      "Epoch 12/100\n",
      "100/100 [==============================] - 269s 3s/step - loss: 0.1526 - acc: 0.9400 - val_loss: 0.1996 - val_acc: 0.9300\n",
      "Epoch 13/100\n",
      "100/100 [==============================] - 271s 3s/step - loss: 0.1270 - acc: 0.9485 - val_loss: 0.1960 - val_acc: 0.9300\n",
      "Epoch 14/100\n",
      "100/100 [==============================] - 268s 3s/step - loss: 0.1250 - acc: 0.9535 - val_loss: 0.1746 - val_acc: 0.9360\n",
      "Epoch 15/100\n",
      "100/100 [==============================] - 268s 3s/step - loss: 0.1184 - acc: 0.9535 - val_loss: 0.1893 - val_acc: 0.9350\n",
      "Epoch 16/100\n",
      "100/100 [==============================] - 265s 3s/step - loss: 0.1243 - acc: 0.9520 - val_loss: 0.1849 - val_acc: 0.9350\n",
      "Epoch 17/100\n",
      "100/100 [==============================] - 268s 3s/step - loss: 0.1167 - acc: 0.9545 - val_loss: 0.1909 - val_acc: 0.9300\n",
      "Epoch 18/100\n",
      "100/100 [==============================] - 268s 3s/step - loss: 0.1052 - acc: 0.9610 - val_loss: 0.1951 - val_acc: 0.9290\n",
      "Epoch 19/100\n",
      "100/100 [==============================] - 268s 3s/step - loss: 0.1082 - acc: 0.9535 - val_loss: 0.1840 - val_acc: 0.9260\n",
      "Epoch 20/100\n",
      "100/100 [==============================] - 264s 3s/step - loss: 0.0963 - acc: 0.9590 - val_loss: 0.1920 - val_acc: 0.9270\n",
      "Epoch 21/100\n",
      "100/100 [==============================] - 269s 3s/step - loss: 0.0980 - acc: 0.9585 - val_loss: 0.1773 - val_acc: 0.9340\n",
      "Epoch 22/100\n",
      "100/100 [==============================] - 268s 3s/step - loss: 0.0978 - acc: 0.9640 - val_loss: 0.1833 - val_acc: 0.9380\n",
      "Epoch 23/100\n",
      "100/100 [==============================] - 268s 3s/step - loss: 0.0817 - acc: 0.9710 - val_loss: 0.1887 - val_acc: 0.9300\n",
      "Epoch 24/100\n",
      "100/100 [==============================] - 262s 3s/step - loss: 0.0895 - acc: 0.9685 - val_loss: 0.1958 - val_acc: 0.9260\n",
      "Epoch 25/100\n",
      "100/100 [==============================] - 261s 3s/step - loss: 0.0785 - acc: 0.9710 - val_loss: 0.1951 - val_acc: 0.9320\n",
      "Epoch 26/100\n",
      "100/100 [==============================] - 262s 3s/step - loss: 0.0842 - acc: 0.9665 - val_loss: 0.1926 - val_acc: 0.9320\n",
      "Epoch 27/100\n",
      "100/100 [==============================] - 258s 3s/step - loss: 0.0748 - acc: 0.9715 - val_loss: 0.1870 - val_acc: 0.9340\n",
      "Epoch 28/100\n",
      "100/100 [==============================] - 262s 3s/step - loss: 0.0629 - acc: 0.9755 - val_loss: 0.1932 - val_acc: 0.9360\n",
      "Epoch 29/100\n",
      "100/100 [==============================] - 260s 3s/step - loss: 0.0720 - acc: 0.9750 - val_loss: 0.2193 - val_acc: 0.9330\n",
      "Epoch 30/100\n",
      "100/100 [==============================] - 260s 3s/step - loss: 0.0765 - acc: 0.9735 - val_loss: 0.1829 - val_acc: 0.9360\n",
      "Epoch 31/100\n",
      "100/100 [==============================] - 261s 3s/step - loss: 0.0684 - acc: 0.9745 - val_loss: 0.1788 - val_acc: 0.9320\n",
      "Epoch 32/100\n",
      "100/100 [==============================] - 263s 3s/step - loss: 0.0597 - acc: 0.9775 - val_loss: 0.2010 - val_acc: 0.9330\n",
      "Epoch 33/100\n",
      "100/100 [==============================] - 263s 3s/step - loss: 0.0653 - acc: 0.9765 - val_loss: 0.2321 - val_acc: 0.9290\n",
      "Epoch 34/100\n",
      "100/100 [==============================] - 269s 3s/step - loss: 0.0617 - acc: 0.9790 - val_loss: 0.2368 - val_acc: 0.9250\n",
      "Epoch 35/100\n",
      "100/100 [==============================] - 268s 3s/step - loss: 0.0565 - acc: 0.9805 - val_loss: 0.2242 - val_acc: 0.9290\n",
      "Epoch 36/100\n",
      "100/100 [==============================] - 270s 3s/step - loss: 0.0463 - acc: 0.9845 - val_loss: 0.2206 - val_acc: 0.9320\n",
      "Epoch 37/100\n",
      "100/100 [==============================] - 262s 3s/step - loss: 0.0682 - acc: 0.9760 - val_loss: 0.2198 - val_acc: 0.9300\n",
      "Epoch 38/100\n",
      "100/100 [==============================] - 266s 3s/step - loss: 0.0562 - acc: 0.9845 - val_loss: 0.2082 - val_acc: 0.9370\n",
      "Epoch 39/100\n",
      "100/100 [==============================] - 269s 3s/step - loss: 0.0480 - acc: 0.9825 - val_loss: 0.2093 - val_acc: 0.9320\n",
      "Epoch 40/100\n",
      "100/100 [==============================] - 267s 3s/step - loss: 0.0500 - acc: 0.9820 - val_loss: 0.2857 - val_acc: 0.9230\n",
      "Epoch 41/100\n",
      "100/100 [==============================] - 266s 3s/step - loss: 0.0462 - acc: 0.9815 - val_loss: 0.1978 - val_acc: 0.9340\n",
      "Epoch 42/100\n",
      "100/100 [==============================] - 260s 3s/step - loss: 0.0438 - acc: 0.9840 - val_loss: 0.2095 - val_acc: 0.9340\n",
      "Epoch 43/100\n",
      "100/100 [==============================] - 266s 3s/step - loss: 0.0548 - acc: 0.9800 - val_loss: 0.2127 - val_acc: 0.9390\n",
      "Epoch 44/100\n",
      "100/100 [==============================] - 267s 3s/step - loss: 0.0397 - acc: 0.9875 - val_loss: 0.2311 - val_acc: 0.9360\n",
      "Epoch 45/100\n",
      "100/100 [==============================] - 268s 3s/step - loss: 0.0420 - acc: 0.9845 - val_loss: 0.2772 - val_acc: 0.9270\n",
      "Epoch 46/100\n",
      "100/100 [==============================] - 267s 3s/step - loss: 0.0533 - acc: 0.9780 - val_loss: 0.2267 - val_acc: 0.9350\n",
      "Epoch 47/100\n",
      "100/100 [==============================] - 261s 3s/step - loss: 0.0454 - acc: 0.9840 - val_loss: 0.2198 - val_acc: 0.9370\n",
      "Epoch 48/100\n",
      "100/100 [==============================] - 260s 3s/step - loss: 0.0374 - acc: 0.9870 - val_loss: 0.2224 - val_acc: 0.9380\n",
      "Epoch 49/100\n",
      "100/100 [==============================] - 261s 3s/step - loss: 0.0392 - acc: 0.9845 - val_loss: 0.2165 - val_acc: 0.9350\n",
      "Epoch 50/100\n",
      "100/100 [==============================] - 262s 3s/step - loss: 0.0384 - acc: 0.9850 - val_loss: 0.2060 - val_acc: 0.9340\n",
      "Epoch 51/100\n",
      "100/100 [==============================] - 261s 3s/step - loss: 0.0334 - acc: 0.9860 - val_loss: 0.2148 - val_acc: 0.9360\n",
      "Epoch 52/100\n",
      "100/100 [==============================] - 259s 3s/step - loss: 0.0356 - acc: 0.9860 - val_loss: 0.2729 - val_acc: 0.9340\n",
      "Epoch 53/100\n",
      "100/100 [==============================] - 263s 3s/step - loss: 0.0338 - acc: 0.9865 - val_loss: 0.2381 - val_acc: 0.9350\n",
      "Epoch 54/100\n",
      "100/100 [==============================] - 261s 3s/step - loss: 0.0300 - acc: 0.9900 - val_loss: 0.2404 - val_acc: 0.9330\n",
      "Epoch 55/100\n",
      "100/100 [==============================] - 259s 3s/step - loss: 0.0351 - acc: 0.9865 - val_loss: 0.2445 - val_acc: 0.9300\n",
      "Epoch 56/100\n",
      "100/100 [==============================] - 259s 3s/step - loss: 0.0385 - acc: 0.9870 - val_loss: 0.2416 - val_acc: 0.9340\n",
      "Epoch 57/100\n",
      "100/100 [==============================] - 263s 3s/step - loss: 0.0425 - acc: 0.9860 - val_loss: 0.2284 - val_acc: 0.9330\n",
      "Epoch 58/100\n",
      "100/100 [==============================] - 270s 3s/step - loss: 0.0293 - acc: 0.9900 - val_loss: 0.2335 - val_acc: 0.9300\n",
      "Epoch 59/100\n",
      "100/100 [==============================] - 268s 3s/step - loss: 0.0313 - acc: 0.9880 - val_loss: 0.2153 - val_acc: 0.9350\n",
      "Epoch 60/100\n",
      "100/100 [==============================] - 267s 3s/step - loss: 0.0316 - acc: 0.9880 - val_loss: 0.1992 - val_acc: 0.9360\n",
      "Epoch 61/100\n",
      "100/100 [==============================] - 266s 3s/step - loss: 0.0332 - acc: 0.9880 - val_loss: 0.2301 - val_acc: 0.9340\n"
     ]
    },
    {
     "name": "stdout",
     "output_type": "stream",
     "text": [
      "Epoch 62/100\n",
      "100/100 [==============================] - 269s 3s/step - loss: 0.0294 - acc: 0.9895 - val_loss: 0.2082 - val_acc: 0.9310\n",
      "Epoch 63/100\n",
      "100/100 [==============================] - 266s 3s/step - loss: 0.0364 - acc: 0.9895 - val_loss: 0.2594 - val_acc: 0.9330\n",
      "Epoch 64/100\n",
      "100/100 [==============================] - 266s 3s/step - loss: 0.0286 - acc: 0.9885 - val_loss: 0.2294 - val_acc: 0.9320\n",
      "Epoch 65/100\n",
      "100/100 [==============================] - 268s 3s/step - loss: 0.0298 - acc: 0.9900 - val_loss: 0.3695 - val_acc: 0.9150\n",
      "Epoch 66/100\n",
      "100/100 [==============================] - 265s 3s/step - loss: 0.0294 - acc: 0.9890 - val_loss: 0.2244 - val_acc: 0.9400\n",
      "Epoch 67/100\n",
      "100/100 [==============================] - 263s 3s/step - loss: 0.0235 - acc: 0.9915 - val_loss: 0.2270 - val_acc: 0.9410\n",
      "Epoch 68/100\n",
      "100/100 [==============================] - 269s 3s/step - loss: 0.0302 - acc: 0.9895 - val_loss: 0.2539 - val_acc: 0.9320\n",
      "Epoch 69/100\n",
      "100/100 [==============================] - 267s 3s/step - loss: 0.0219 - acc: 0.9915 - val_loss: 0.2596 - val_acc: 0.9310\n",
      "Epoch 70/100\n",
      "100/100 [==============================] - 269s 3s/step - loss: 0.0263 - acc: 0.9885 - val_loss: 0.2618 - val_acc: 0.9330\n",
      "Epoch 71/100\n",
      "100/100 [==============================] - 265s 3s/step - loss: 0.0266 - acc: 0.9900 - val_loss: 0.2394 - val_acc: 0.9430\n",
      "Epoch 72/100\n",
      "100/100 [==============================] - 263s 3s/step - loss: 0.0308 - acc: 0.9885 - val_loss: 0.3731 - val_acc: 0.9210\n",
      "Epoch 73/100\n",
      "100/100 [==============================] - 264s 3s/step - loss: 0.0266 - acc: 0.9875 - val_loss: 0.2372 - val_acc: 0.9410\n",
      "Epoch 74/100\n",
      "100/100 [==============================] - 264s 3s/step - loss: 0.0239 - acc: 0.9925 - val_loss: 0.2685 - val_acc: 0.9360\n",
      "Epoch 75/100\n",
      "100/100 [==============================] - 263s 3s/step - loss: 0.0191 - acc: 0.9930 - val_loss: 0.2837 - val_acc: 0.9370\n",
      "Epoch 76/100\n",
      "100/100 [==============================] - 262s 3s/step - loss: 0.0290 - acc: 0.9895 - val_loss: 0.3076 - val_acc: 0.9320\n",
      "Epoch 77/100\n",
      "100/100 [==============================] - 264s 3s/step - loss: 0.0281 - acc: 0.9885 - val_loss: 0.2396 - val_acc: 0.9360\n",
      "Epoch 78/100\n",
      "100/100 [==============================] - 263s 3s/step - loss: 0.0144 - acc: 0.9960 - val_loss: 0.2604 - val_acc: 0.9410\n",
      "Epoch 79/100\n",
      "100/100 [==============================] - 264s 3s/step - loss: 0.0172 - acc: 0.9930 - val_loss: 0.3503 - val_acc: 0.9340\n",
      "Epoch 80/100\n",
      "100/100 [==============================] - 262s 3s/step - loss: 0.0162 - acc: 0.9955 - val_loss: 0.2598 - val_acc: 0.9330\n",
      "Epoch 81/100\n",
      "100/100 [==============================] - 264s 3s/step - loss: 0.0202 - acc: 0.9930 - val_loss: 0.3340 - val_acc: 0.9330\n",
      "Epoch 82/100\n",
      "100/100 [==============================] - 264s 3s/step - loss: 0.0154 - acc: 0.9950 - val_loss: 0.2628 - val_acc: 0.9400\n",
      "Epoch 83/100\n",
      "100/100 [==============================] - 263s 3s/step - loss: 0.0213 - acc: 0.9935 - val_loss: 0.2818 - val_acc: 0.9360\n",
      "Epoch 84/100\n",
      "100/100 [==============================] - 264s 3s/step - loss: 0.0218 - acc: 0.9925 - val_loss: 0.3179 - val_acc: 0.9390\n",
      "Epoch 85/100\n",
      "100/100 [==============================] - 261s 3s/step - loss: 0.0237 - acc: 0.9940 - val_loss: 0.2631 - val_acc: 0.9370\n",
      "Epoch 86/100\n",
      "100/100 [==============================] - 264s 3s/step - loss: 0.0236 - acc: 0.9935 - val_loss: 0.2599 - val_acc: 0.9400\n",
      "Epoch 87/100\n",
      "100/100 [==============================] - 265s 3s/step - loss: 0.0218 - acc: 0.9915 - val_loss: 0.2868 - val_acc: 0.9400\n",
      "Epoch 88/100\n",
      "100/100 [==============================] - 266s 3s/step - loss: 0.0261 - acc: 0.9930 - val_loss: 0.3606 - val_acc: 0.9170\n",
      "Epoch 89/100\n",
      "100/100 [==============================] - 273s 3s/step - loss: 0.0233 - acc: 0.9915 - val_loss: 0.2941 - val_acc: 0.9350\n",
      "Epoch 90/100\n",
      "100/100 [==============================] - 263s 3s/step - loss: 0.0137 - acc: 0.9955 - val_loss: 0.2780 - val_acc: 0.9400\n",
      "Epoch 91/100\n",
      "100/100 [==============================] - 262s 3s/step - loss: 0.0220 - acc: 0.9900 - val_loss: 0.2504 - val_acc: 0.9410\n",
      "Epoch 92/100\n",
      "100/100 [==============================] - 265s 3s/step - loss: 0.0198 - acc: 0.9930 - val_loss: 0.2401 - val_acc: 0.9400\n",
      "Epoch 93/100\n",
      "100/100 [==============================] - 263s 3s/step - loss: 0.0150 - acc: 0.9960 - val_loss: 0.2559 - val_acc: 0.9380\n",
      "Epoch 94/100\n",
      "100/100 [==============================] - 264s 3s/step - loss: 0.0221 - acc: 0.9910 - val_loss: 0.2467 - val_acc: 0.9400\n",
      "Epoch 95/100\n",
      "100/100 [==============================] - 263s 3s/step - loss: 0.0206 - acc: 0.9935 - val_loss: 0.2253 - val_acc: 0.9470\n",
      "Epoch 96/100\n",
      "100/100 [==============================] - 265s 3s/step - loss: 0.0152 - acc: 0.9940 - val_loss: 0.2803 - val_acc: 0.9370\n",
      "Epoch 97/100\n",
      "100/100 [==============================] - 264s 3s/step - loss: 0.0136 - acc: 0.9935 - val_loss: 0.3282 - val_acc: 0.9240\n",
      "Epoch 98/100\n",
      "100/100 [==============================] - 263s 3s/step - loss: 0.0193 - acc: 0.9930 - val_loss: 0.2525 - val_acc: 0.9430\n",
      "Epoch 99/100\n",
      "100/100 [==============================] - 262s 3s/step - loss: 0.0155 - acc: 0.9955 - val_loss: 0.4202 - val_acc: 0.9320\n",
      "Epoch 100/100\n",
      "100/100 [==============================] - 265s 3s/step - loss: 0.0160 - acc: 0.9940 - val_loss: 0.5267 - val_acc: 0.9040\n"
     ]
    }
   ],
   "source": [
    "model.compile(loss='binary_crossentropy',\n",
    "              optimizer=optimizers.RMSprop(lr=1e-5),\n",
    "              metrics=['acc'])\n",
    "\n",
    "history = model.fit_generator(train_generator,\n",
    "                              steps_per_epoch=100,\n",
    "                              epochs=100,\n",
    "                              validation_data=validation_generator,\n",
    "                              validation_steps=50)"
   ]
  }
 ],
 "metadata": {
  "kernelspec": {
   "display_name": "Python (Deepenv)",
   "language": "python",
   "name": "dl"
  },
  "language_info": {
   "codemirror_mode": {
    "name": "ipython",
    "version": 3
   },
   "file_extension": ".py",
   "mimetype": "text/x-python",
   "name": "python",
   "nbconvert_exporter": "python",
   "pygments_lexer": "ipython3",
   "version": "3.9.15"
  }
 },
 "nbformat": 4,
 "nbformat_minor": 5
}
