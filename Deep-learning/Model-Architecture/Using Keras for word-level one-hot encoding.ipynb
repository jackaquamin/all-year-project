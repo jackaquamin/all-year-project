{
 "cells": [
  {
   "cell_type": "code",
   "execution_count": 1,
   "id": "e0a8f980",
   "metadata": {},
   "outputs": [],
   "source": [
    "from tensorflow.keras.preprocessing.text import Tokenizer"
   ]
  },
  {
   "cell_type": "code",
   "execution_count": 2,
   "id": "05fa203f",
   "metadata": {},
   "outputs": [],
   "source": [
    "# samples = ['The cat sat on the mat.', 'The dog ate my homework.']\n",
    "samples = ['The cat sat on the mat.']"
   ]
  },
  {
   "cell_type": "code",
   "execution_count": 3,
   "id": "a5ae9607",
   "metadata": {},
   "outputs": [],
   "source": [
    "tokenizer = Tokenizer(num_words=1000)\n",
    "tokenizer.fit_on_texts(samples)\n"
   ]
  },
  {
   "cell_type": "code",
   "execution_count": 4,
   "id": "316354fd",
   "metadata": {},
   "outputs": [
    {
     "name": "stdout",
     "output_type": "stream",
     "text": [
      "[[1, 2, 3, 4, 1, 5]]\n"
     ]
    }
   ],
   "source": [
    "sequences = tokenizer.texts_to_sequences(samples)\n",
    "print(sequences)\n"
   ]
  },
  {
   "cell_type": "code",
   "execution_count": 5,
   "id": "fe9ee747",
   "metadata": {},
   "outputs": [
    {
     "name": "stdout",
     "output_type": "stream",
     "text": [
      "{'the': 1, 'cat': 2, 'sat': 3, 'on': 4, 'mat': 5}\n",
      "Found 5 unique tokens.\n"
     ]
    }
   ],
   "source": [
    "tokenizer.texts_to_matrix(samples, mode='binary')\n",
    "word_index = tokenizer.word_index\n",
    "print(word_index)\n",
    "print('Found %s unique tokens.' % len(word_index))"
   ]
  }
 ],
 "metadata": {
  "kernelspec": {
   "display_name": "Python (Deepenv)",
   "language": "python",
   "name": "dl"
  },
  "language_info": {
   "codemirror_mode": {
    "name": "ipython",
    "version": 3
   },
   "file_extension": ".py",
   "mimetype": "text/x-python",
   "name": "python",
   "nbconvert_exporter": "python",
   "pygments_lexer": "ipython3",
   "version": "3.9.15"
  }
 },
 "nbformat": 4,
 "nbformat_minor": 5
}
