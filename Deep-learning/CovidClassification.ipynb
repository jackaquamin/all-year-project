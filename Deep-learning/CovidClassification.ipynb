{
  "nbformat": 4,
  "nbformat_minor": 0,
  "metadata": {
    "colab": {
      "provenance": [],
      "mount_file_id": "1h8duavO4fvQ9msd5ZdbonvdWAEWlUgoL",
      "authorship_tag": "ABX9TyPB7mf/atELa7dZam528Rc8",
      "include_colab_link": true
    },
    "kernelspec": {
      "name": "python3",
      "display_name": "Python 3"
    },
    "language_info": {
      "name": "python"
    }
  },
  "cells": [
    {
      "cell_type": "markdown",
      "metadata": {
        "id": "view-in-github",
        "colab_type": "text"
      },
      "source": [
        "<a href=\"https://colab.research.google.com/github/jackaquamin/myprojects/blob/main/CovidClassification.ipynb\" target=\"_parent\"><img src=\"https://colab.research.google.com/assets/colab-badge.svg\" alt=\"Open In Colab\"/></a>"
      ]
    },
    {
      "cell_type": "code",
      "execution_count": null,
      "metadata": {
        "id": "KQGRVp29G04h"
      },
      "outputs": [],
      "source": [
        "# Directories for the training, validation, and test splits\n",
        "train_dir = '/content/drive/MyDrive/Colab Notebooks/Covid19-dataset/train'\n",
        "validation_dir ='/content/drive/MyDrive/Colab Notebooks/Covid19-dataset/test'"
      ]
    },
    {
      "cell_type": "code",
      "source": [
        "# load the dataset\n",
        "from tensorflow.keras.preprocessing.image import ImageDataGenerator\n",
        "train_datagen = ImageDataGenerator(rescale=1./255)\n",
        "val_datagen = ImageDataGenerator(rescale=1./255)\n",
        "train_generator = train_datagen.flow_from_directory(train_dir,target_\n",
        "                                                    size=(512,512),\n",
        "                                                    batch_size= 32,\n",
        "                                                    class_mode='categorical') # multiple classes (3 classes)\n",
        "validation_generator = val_datagen.flow_from_directory(validation_dir,\n",
        "                                                       target_size=(512,512),\n",
        "                                                       batch_size=32,c\n",
        "                                                       lass_mode='categorical') # multiple classes (3 classes)"
      ],
      "metadata": {
        "colab": {
          "base_uri": "https://localhost:8080/"
        },
        "id": "R4cB57NzIN6U",
        "outputId": "2eb8165f-c823-4ca2-90d2-db64356a499c"
      },
      "execution_count": null,
      "outputs": [
        {
          "output_type": "stream",
          "name": "stdout",
          "text": [
            "Found 251 images belonging to 3 classes.\n",
            "Found 66 images belonging to 3 classes.\n"
          ]
        }
      ]
    },
    {
      "cell_type": "code",
      "source": [
        "# convert for covid classification\n",
        "from tensorflow.keras import layers, models\n",
        "model = models.Sequential()\n",
        "model.add(layers.Conv2D(32, (3, 3), activation='relu',input_shape=(512, 512, 3)))\n",
        "model.add(layers.MaxPooling2D((2, 2)))\n",
        "model.add(layers.Conv2D(64, (3, 3), activation='relu'))\n",
        "model.add(layers.MaxPooling2D((2, 2)))\n",
        "model.add(layers.Conv2D(128, (3, 3), activation='relu'))\n",
        "model.add(layers.MaxPooling2D((2, 2)))\n",
        "model.add(layers.Conv2D(128, (3, 3), activation='relu'))\n",
        "model.add(layers.MaxPooling2D((2, 2)))\n",
        "model.add(layers.Flatten())\n",
        "model.add(layers.Dense(512, activation='relu'))\n",
        "model.add(layers.Dense(3, activation='softmax'))\n",
        "model.summary()"
      ],
      "metadata": {
        "colab": {
          "base_uri": "https://localhost:8080/"
        },
        "id": "xNwxLSBFId53",
        "outputId": "36c6e6d1-0062-42b6-d5b1-0295394b7af3"
      },
      "execution_count": null,
      "outputs": [
        {
          "output_type": "stream",
          "name": "stdout",
          "text": [
            "Model: \"sequential\"\n",
            "_________________________________________________________________\n",
            " Layer (type)                Output Shape              Param #   \n",
            "=================================================================\n",
            " conv2d (Conv2D)             (None, 510, 510, 32)      896       \n",
            "                                                                 \n",
            " max_pooling2d (MaxPooling2D  (None, 255, 255, 32)     0         \n",
            " )                                                               \n",
            "                                                                 \n",
            " conv2d_1 (Conv2D)           (None, 253, 253, 64)      18496     \n",
            "                                                                 \n",
            " max_pooling2d_1 (MaxPooling  (None, 126, 126, 64)     0         \n",
            " 2D)                                                             \n",
            "                                                                 \n",
            " conv2d_2 (Conv2D)           (None, 124, 124, 128)     73856     \n",
            "                                                                 \n",
            " max_pooling2d_2 (MaxPooling  (None, 62, 62, 128)      0         \n",
            " 2D)                                                             \n",
            "                                                                 \n",
            " conv2d_3 (Conv2D)           (None, 60, 60, 128)       147584    \n",
            "                                                                 \n",
            " max_pooling2d_3 (MaxPooling  (None, 30, 30, 128)      0         \n",
            " 2D)                                                             \n",
            "                                                                 \n",
            " flatten (Flatten)           (None, 115200)            0         \n",
            "                                                                 \n",
            " dense (Dense)               (None, 512)               58982912  \n",
            "                                                                 \n",
            " dense_1 (Dense)             (None, 3)                 1539      \n",
            "                                                                 \n",
            "=================================================================\n",
            "Total params: 59,225,283\n",
            "Trainable params: 59,225,283\n",
            "Non-trainable params: 0\n",
            "_________________________________________________________________\n"
          ]
        }
      ]
    },
    {
      "cell_type": "code",
      "source": [
        "# compile the model\n",
        "from tensorflow.keras import optimizers\n",
        "model.compile(loss='categorical_crossentropy',\n",
        "              optimizer=optimizers.RMSprop(learning_rate=1e-4),metrics=['acc'])"
      ],
      "metadata": {
        "id": "3xxmHPovJNtg"
      },
      "execution_count": null,
      "outputs": []
    },
    {
      "cell_type": "code",
      "source": [
        "# train the model\n",
        "STEP_SIZE_TRAIN = train_generator.n//train_generator.batch_size\n",
        "STEP_SIZE_VALID = validation_generator.n//validation_generator.batch_size\n",
        "print(STEP_SIZE_TRAIN,STEP_SIZE_VALID)\n",
        "history = model.fit(train_generator,steps_per_epoch=STEP_SIZE_TRAIN,epochs=30,\n",
        "                    validation_data=validation_generator,\n",
        "                    validation_steps=STEP_SIZE_VALID)"
      ],
      "metadata": {
        "colab": {
          "base_uri": "https://localhost:8080/"
        },
        "id": "JQsQf6i2Jahb",
        "outputId": "9890262d-d784-4772-ea2f-3510104115e1"
      },
      "execution_count": null,
      "outputs": [
        {
          "output_type": "stream",
          "name": "stdout",
          "text": [
            "7 2\n",
            "Epoch 1/30\n",
            "7/7 [==============================] - 165s 24s/step - loss: 2.0933 - acc: 0.5388 - val_loss: 0.9120 - val_acc: 0.5312\n",
            "Epoch 2/30\n",
            "7/7 [==============================] - 151s 22s/step - loss: 0.7756 - acc: 0.7352 - val_loss: 0.6198 - val_acc: 0.7969\n",
            "Epoch 3/30\n",
            "7/7 [==============================] - 140s 20s/step - loss: 0.4031 - acc: 0.8584 - val_loss: 0.5302 - val_acc: 0.7812\n",
            "Epoch 4/30\n",
            "7/7 [==============================] - 145s 21s/step - loss: 0.3232 - acc: 0.8767 - val_loss: 0.3915 - val_acc: 0.8594\n",
            "Epoch 5/30\n",
            "7/7 [==============================] - 142s 21s/step - loss: 0.1968 - acc: 0.9452 - val_loss: 0.7505 - val_acc: 0.6875\n",
            "Epoch 6/30\n",
            "7/7 [==============================] - 141s 20s/step - loss: 0.2992 - acc: 0.8904 - val_loss: 0.3876 - val_acc: 0.8438\n",
            "Epoch 7/30\n",
            "7/7 [==============================] - 141s 20s/step - loss: 0.1901 - acc: 0.9178 - val_loss: 0.3780 - val_acc: 0.8281\n",
            "Epoch 8/30\n",
            "7/7 [==============================] - 146s 21s/step - loss: 0.1352 - acc: 0.9543 - val_loss: 0.2853 - val_acc: 0.8750\n",
            "Epoch 9/30\n",
            "7/7 [==============================] - 144s 21s/step - loss: 0.1913 - acc: 0.9241 - val_loss: 0.3136 - val_acc: 0.8906\n",
            "Epoch 10/30\n",
            "7/7 [==============================] - 142s 20s/step - loss: 0.0967 - acc: 0.9680 - val_loss: 0.2342 - val_acc: 0.9375\n",
            "Epoch 11/30\n",
            "7/7 [==============================] - 151s 22s/step - loss: 0.1004 - acc: 0.9680 - val_loss: 0.2166 - val_acc: 0.9219\n",
            "Epoch 12/30\n",
            "7/7 [==============================] - 146s 21s/step - loss: 0.0476 - acc: 0.9911 - val_loss: 0.2452 - val_acc: 0.8906\n",
            "Epoch 13/30\n",
            "7/7 [==============================] - 142s 20s/step - loss: 0.0230 - acc: 0.9954 - val_loss: 1.1533 - val_acc: 0.7031\n",
            "Epoch 14/30\n",
            "7/7 [==============================] - 141s 21s/step - loss: 0.1363 - acc: 0.9498 - val_loss: 0.2080 - val_acc: 0.9062\n",
            "Epoch 15/30\n",
            "7/7 [==============================] - 147s 21s/step - loss: 0.0183 - acc: 0.9954 - val_loss: 0.2440 - val_acc: 0.9219\n",
            "Epoch 16/30\n",
            "7/7 [==============================] - 144s 21s/step - loss: 0.0184 - acc: 0.9955 - val_loss: 0.9914 - val_acc: 0.7188\n",
            "Epoch 17/30\n",
            "7/7 [==============================] - 141s 20s/step - loss: 0.0627 - acc: 0.9680 - val_loss: 0.2314 - val_acc: 0.9375\n",
            "Epoch 18/30\n",
            "7/7 [==============================] - 144s 21s/step - loss: 0.0070 - acc: 1.0000 - val_loss: 0.2916 - val_acc: 0.8906\n",
            "Epoch 19/30\n",
            "7/7 [==============================] - 143s 21s/step - loss: 0.0053 - acc: 1.0000 - val_loss: 0.3114 - val_acc: 0.8906\n",
            "Epoch 20/30\n",
            "7/7 [==============================] - 141s 20s/step - loss: 0.0017 - acc: 1.0000 - val_loss: 0.2460 - val_acc: 0.9062\n",
            "Epoch 21/30\n",
            "7/7 [==============================] - 141s 20s/step - loss: 0.0014 - acc: 1.0000 - val_loss: 0.2759 - val_acc: 0.9375\n",
            "Epoch 22/30\n",
            "7/7 [==============================] - 141s 20s/step - loss: 0.0043 - acc: 1.0000 - val_loss: 2.1155 - val_acc: 0.6875\n",
            "Epoch 23/30\n",
            "7/7 [==============================] - 158s 23s/step - loss: 0.1861 - acc: 0.9452 - val_loss: 0.2673 - val_acc: 0.9062\n",
            "Epoch 24/30\n",
            "7/7 [==============================] - 144s 21s/step - loss: 0.0031 - acc: 1.0000 - val_loss: 0.2951 - val_acc: 0.9062\n",
            "Epoch 25/30\n",
            "7/7 [==============================] - 142s 20s/step - loss: 0.0021 - acc: 1.0000 - val_loss: 0.3336 - val_acc: 0.8906\n",
            "Epoch 26/30\n",
            "7/7 [==============================] - 148s 21s/step - loss: 0.0013 - acc: 1.0000 - val_loss: 0.3357 - val_acc: 0.8906\n",
            "Epoch 27/30\n",
            "7/7 [==============================] - 152s 22s/step - loss: 6.9755e-04 - acc: 1.0000 - val_loss: 0.4204 - val_acc: 0.9062\n",
            "Epoch 28/30\n",
            "7/7 [==============================] - 142s 20s/step - loss: 3.8280e-04 - acc: 1.0000 - val_loss: 0.3587 - val_acc: 0.8906\n",
            "Epoch 29/30\n",
            "7/7 [==============================] - 144s 21s/step - loss: 4.1080e-04 - acc: 1.0000 - val_loss: 0.5532 - val_acc: 0.8750\n",
            "Epoch 30/30\n",
            "7/7 [==============================] - 150s 22s/step - loss: 0.0918 - acc: 0.9732 - val_loss: 0.2855 - val_acc: 0.9062\n"
          ]
        }
      ]
    },
    {
      "cell_type": "code",
      "source": [
        "#save the trained model\n",
        "model.save('/content/drive/MyDrive/Colab Notebooks/Covid19-dataset/covid.h5')"
      ],
      "metadata": {
        "id": "lsAOlG6FcyBL"
      },
      "execution_count": null,
      "outputs": []
    }
  ]
}
