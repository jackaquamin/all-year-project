{
  "nbformat": 4,
  "nbformat_minor": 0,
  "metadata": {
    "colab": {
      "provenance": [],
      "authorship_tag": "ABX9TyPWQXMO/qjdWlTyVS3TS+5N",
      "include_colab_link": true
    },
    "kernelspec": {
      "name": "python3",
      "display_name": "Python 3"
    },
    "language_info": {
      "name": "python"
    }
  },
  "cells": [
    {
      "cell_type": "markdown",
      "metadata": {
        "id": "view-in-github",
        "colab_type": "text"
      },
      "source": [
        "<a href=\"https://colab.research.google.com/github/jackaquamin/myprojects/blob/main/TwoLayerNNHandWritten.ipynb\" target=\"_parent\"><img src=\"https://colab.research.google.com/assets/colab-badge.svg\" alt=\"Open In Colab\"/></a>"
      ]
    },
    {
      "cell_type": "markdown",
      "source": [
        "1. Loading the dataset (MNIST)\n"
      ],
      "metadata": {
        "id": "bHM4xdx7jdaE"
      }
    },
    {
      "cell_type": "code",
      "execution_count": null,
      "metadata": {
        "id": "7vQd5vsjh0bJ"
      },
      "outputs": [],
      "source": [
        "from tensorflow.keras.datasets import mnist"
      ]
    },
    {
      "cell_type": "code",
      "source": [
        "(train_img,train_labels),(test_img,test_labels) = mnist.load_data() "
      ],
      "metadata": {
        "id": "njHYPcV9kCfj"
      },
      "execution_count": null,
      "outputs": []
    },
    {
      "cell_type": "code",
      "source": [
        "# analyze the data\n",
        "print('Shape of train_img',train_img.shape)\n",
        "print('Shape of train_labels',train_labels.shape)\n",
        "\n",
        "print('Shape of test_img',test_img.shape)\n",
        "print('Shape of test_labels',test_labels.shape)"
      ],
      "metadata": {
        "colab": {
          "base_uri": "https://localhost:8080/"
        },
        "id": "52SzXZHOlQE_",
        "outputId": "481cd7cd-80e8-4836-9434-a8d5977fe401"
      },
      "execution_count": null,
      "outputs": [
        {
          "output_type": "stream",
          "name": "stdout",
          "text": [
            "Shape of train_img (60000, 28, 28)\n",
            "Shape of train_labels (60000,)\n",
            "Shape of test_img (10000, 28, 28)\n",
            "Shape of test_labels (10000,)\n"
          ]
        }
      ]
    },
    {
      "cell_type": "code",
      "source": [
        "# visualize the input image (train/test)\n",
        "import matplotlib.pyplot as plt\n",
        "\n",
        "# show an image\n",
        "tmp_img = test_img[48] # 0 means the first index / the first image\n",
        "plt.imshow(tmp_img, cmap=plt.cm.binary)\n",
        "print(\"The shape:\",tmp_img.shape)\n",
        "\n",
        "# check the corresponding labels\n",
        "tmp_label = test_labels[48]\n",
        "print('The corresponding label:',tmp_label)"
      ],
      "metadata": {
        "colab": {
          "base_uri": "https://localhost:8080/",
          "height": 300
        },
        "id": "Sgd4itbdmUXe",
        "outputId": "91859844-58eb-46ae-ca11-3b077bb63c45"
      },
      "execution_count": null,
      "outputs": [
        {
          "output_type": "stream",
          "name": "stdout",
          "text": [
            "The shape: (28, 28)\n",
            "The corresponding label: 4\n"
          ]
        },
        {
          "output_type": "display_data",
          "data": {
            "text/plain": [
              "<Figure size 432x288 with 1 Axes>"
            ],
            "image/png": "[encoded data removed]"
          },
          "metadata": {
            "needs_background": "light"
          }
        }
      ]
    },
    {
      "cell_type": "markdown",
      "source": [
        "2. Network Architecture ( Simple 2 layers neural network)\n"
      ],
      "metadata": {
        "id": "EkFrh3pCocCZ"
      }
    },
    {
      "cell_type": "code",
      "source": [
        "from tensorflow.keras import models\n",
        "from tensorflow.keras import layers\n",
        "net = models.Sequential()\n",
        "net.add(layers.Dense(500,activation='relu',input_shape = (28*28,))) # hidden layer 1\n",
        "net.add(layers.Dense(100,activation='relu'))\n",
        "net.add(layers.Dense(10,activation='softmax')) # output layer (10 numbers of classes) (binary = sigmoid, multiclass = softmax)\n",
        "net.summary()"
      ],
      "metadata": {
        "colab": {
          "base_uri": "https://localhost:8080/"
        },
        "id": "q1P_GjIxo0Ca",
        "outputId": "4f5f93c1-5789-4617-b795-5cac72101e18"
      },
      "execution_count": null,
      "outputs": [
        {
          "output_type": "stream",
          "name": "stdout",
          "text": [
            "Model: \"sequential_8\"\n",
            "_________________________________________________________________\n",
            " Layer (type)                Output Shape              Param #   \n",
            "=================================================================\n",
            " dense_14 (Dense)            (None, 500)               392500    \n",
            "                                                                 \n",
            " dense_15 (Dense)            (None, 100)               50100     \n",
            "                                                                 \n",
            " dense_16 (Dense)            (None, 10)                1010      \n",
            "                                                                 \n",
            "=================================================================\n",
            "Total params: 443,610\n",
            "Trainable params: 443,610\n",
            "Non-trainable params: 0\n",
            "_________________________________________________________________\n"
          ]
        }
      ]
    },
    {
      "cell_type": "markdown",
      "source": [
        "3. Compile the model"
      ],
      "metadata": {
        "id": "dK2VHOWEsc31"
      }
    },
    {
      "cell_type": "code",
      "source": [
        "net.compile(optimizer='Adam',loss='categorical_crossentropy', metrics=['accuracy'])"
      ],
      "metadata": {
        "id": "DzWGZM6CsgPm"
      },
      "execution_count": null,
      "outputs": []
    },
    {
      "cell_type": "markdown",
      "source": [
        "4. Preparing data"
      ],
      "metadata": {
        "id": "uXgySnVTuHX9"
      }
    },
    {
      "cell_type": "code",
      "source": [
        "# flatten out our input image (28*28)\n",
        "train_img_data = train_img.reshape(((60000, 28*28)))\n",
        "print('Shape of original train image', train_img.shape)\n",
        "print('Shape of train image after reshape', train_img_data.shape)\n",
        "\n",
        "# range 0-1\n",
        "train_img_data = train_img_data.astype('float32')/255\n",
        "\n",
        "# flatten out our input image (28*28)\n",
        "test_img_data = test_img.reshape(((10000, 28*28)))\n",
        "print('Shape of original train image', test_img.shape)\n",
        "print('Shape of train image after reshape', test_img_data.shape)\n",
        "\n",
        "# range 0-1\n",
        "test_img_data = test_img_data.astype('float32')/255"
      ],
      "metadata": {
        "colab": {
          "base_uri": "https://localhost:8080/"
        },
        "id": "2p0aXO2OuJiU",
        "outputId": "81cfbdd2-fdc6-4f86-f0df-b6156f8ec958"
      },
      "execution_count": null,
      "outputs": [
        {
          "output_type": "stream",
          "name": "stdout",
          "text": [
            "Shape of original train image (60000, 28, 28)\n",
            "Shape of train image after reshape (60000, 784)\n",
            "Shape of original train image (10000, 28, 28)\n",
            "Shape of train image after reshape (10000, 784)\n"
          ]
        }
      ]
    },
    {
      "cell_type": "markdown",
      "source": [
        "5. Prepare the labels"
      ],
      "metadata": {
        "id": "p48Zhq9UwbU0"
      }
    },
    {
      "cell_type": "code",
      "source": [
        "# one-hot encoding\n",
        "from tensorflow.keras.utils import to_categorical\n",
        "train_labels1 = to_categorical(train_labels)\n",
        "print('Original labels',train_labels)\n",
        "print('One-hot encoded labels',train_labels1)\n",
        "\n",
        "# test labels\n",
        "test_labels1 = to_categorical (test_labels)\n",
        "print('Original labels',test_labels)\n",
        "print('One-hot encoded labels',test_labels1)"
      ],
      "metadata": {
        "colab": {
          "base_uri": "https://localhost:8080/"
        },
        "id": "OZSydUBVwdaH",
        "outputId": "6cdc92b0-d3ba-455a-e12e-18372cf209d9"
      },
      "execution_count": null,
      "outputs": [
        {
          "output_type": "stream",
          "name": "stdout",
          "text": [
            "Original labels [5 0 4 ... 5 6 8]\n",
            "One-hot encoded labels [[0. 0. 0. ... 0. 0. 0.]\n",
            " [1. 0. 0. ... 0. 0. 0.]\n",
            " [0. 0. 0. ... 0. 0. 0.]\n",
            " ...\n",
            " [0. 0. 0. ... 0. 0. 0.]\n",
            " [0. 0. 0. ... 0. 0. 0.]\n",
            " [0. 0. 0. ... 0. 1. 0.]]\n",
            "Original labels [7 2 1 ... 4 5 6]\n",
            "One-hot encoded labels [[0. 0. 0. ... 1. 0. 0.]\n",
            " [0. 0. 1. ... 0. 0. 0.]\n",
            " [0. 1. 0. ... 0. 0. 0.]\n",
            " ...\n",
            " [0. 0. 0. ... 0. 0. 0.]\n",
            " [0. 0. 0. ... 0. 0. 0.]\n",
            " [0. 0. 0. ... 0. 0. 0.]]\n"
          ]
        }
      ]
    },
    {
      "cell_type": "markdown",
      "source": [
        "6. Train the model\n"
      ],
      "metadata": {
        "id": "T3VF_myfysTD"
      }
    },
    {
      "cell_type": "code",
      "source": [
        "# train\n",
        "net.fit(train_img_data,train_labels1,epochs=10,batch_size=32 )"
      ],
      "metadata": {
        "colab": {
          "base_uri": "https://localhost:8080/"
        },
        "id": "F3s-yMPpywLr",
        "outputId": "b4d84f42-0a8e-408a-e8b8-2245464de3cc"
      },
      "execution_count": null,
      "outputs": [
        {
          "output_type": "stream",
          "name": "stdout",
          "text": [
            "Epoch 1/10\n",
            "1875/1875 [==============================] - 10s 5ms/step - loss: 0.1908 - accuracy: 0.9421\n",
            "Epoch 2/10\n",
            "1875/1875 [==============================] - 10s 5ms/step - loss: 0.0813 - accuracy: 0.9749\n",
            "Epoch 3/10\n",
            "1875/1875 [==============================] - 10s 5ms/step - loss: 0.0549 - accuracy: 0.9826\n",
            "Epoch 4/10\n",
            "1875/1875 [==============================] - 10s 5ms/step - loss: 0.0415 - accuracy: 0.9866\n",
            "Epoch 5/10\n",
            "1875/1875 [==============================] - 10s 5ms/step - loss: 0.0332 - accuracy: 0.9892\n",
            "Epoch 6/10\n",
            "1875/1875 [==============================] - 10s 5ms/step - loss: 0.0263 - accuracy: 0.9916\n",
            "Epoch 7/10\n",
            "1875/1875 [==============================] - 10s 5ms/step - loss: 0.0207 - accuracy: 0.9937\n",
            "Epoch 8/10\n",
            "1875/1875 [==============================] - 10s 5ms/step - loss: 0.0202 - accuracy: 0.9932\n",
            "Epoch 9/10\n",
            "1875/1875 [==============================] - 10s 5ms/step - loss: 0.0170 - accuracy: 0.9944\n",
            "Epoch 10/10\n",
            "1875/1875 [==============================] - 11s 6ms/step - loss: 0.0163 - accuracy: 0.9945\n"
          ]
        },
        {
          "output_type": "execute_result",
          "data": {
            "text/plain": [
              "<keras.callbacks.History at 0x7f4bc7f49e10>"
            ]
          },
          "metadata": {},
          "execution_count": 74
        }
      ]
    },
    {
      "cell_type": "markdown",
      "source": [
        "7. Evaluate the model using the test data\n"
      ],
      "metadata": {
        "id": "ZakT2aQGCz8H"
      }
    },
    {
      "cell_type": "code",
      "source": [
        "test_loss,test_acc = net.evaluate(test_img_data,test_labels1)\n",
        "print('Test loss:', test_loss)\n",
        "print('Test Accuracy:', test_acc)"
      ],
      "metadata": {
        "colab": {
          "base_uri": "https://localhost:8080/"
        },
        "id": "c2r73WpOC9WE",
        "outputId": "b35ef6f3-c1e9-4f26-fe79-5e3a5d711e19"
      },
      "execution_count": null,
      "outputs": [
        {
          "output_type": "stream",
          "name": "stdout",
          "text": [
            "313/313 [==============================] - 1s 3ms/step - loss: 0.1018 - accuracy: 0.9785\n",
            "Test loss: 0.10183689743280411\n",
            "Test Accuracy: 0.9785000085830688\n"
          ]
        }
      ]
    },
    {
      "cell_type": "code",
      "source": [
        "# test the model using an image (For visualization)\n",
        "# test image - test_img (the one we didn't reshape (10000,28,28))\n",
        "# test_img_data (reshaped one (10000,784))\n",
        "tmp_test_img = test_img [56] # plot as an image (row col)\n",
        "plt.imshow(tmp_test_img, cmap=plt.cm.binary)\n",
        "print(\"The shape:\",tmp_test_img.shape)"
      ],
      "metadata": {
        "colab": {
          "base_uri": "https://localhost:8080/",
          "height": 282
        },
        "id": "ZRrrWFTvDpPI",
        "outputId": "354c166a-16e8-48ad-94b2-b8d9f307ec61"
      },
      "execution_count": null,
      "outputs": [
        {
          "output_type": "stream",
          "name": "stdout",
          "text": [
            "The shape: (28, 28)\n"
          ]
        },
        {
          "output_type": "display_data",
          "data": {
            "text/plain": [
              "<Figure size 432x288 with 1 Axes>"
            ],
            "image/png": "[encoded data removed]"
          },
          "metadata": {
            "needs_background": "light"
          }
        }
      ]
    },
    {
      "cell_type": "code",
      "source": [
        "# put image into trained neural net\n",
        "tmp_test_img = tmp_test_img.reshape((1,28*28))\n",
        "print(tmp_test_img.shape)\n",
        "\n",
        "# network\n",
        "net_out = net.predict(tmp_test_img)\n",
        "net_out"
      ],
      "metadata": {
        "colab": {
          "base_uri": "https://localhost:8080/"
        },
        "id": "o7W8wkO2EtNp",
        "outputId": "390c6fad-761d-4ee9-dc76-cc69f8283edf"
      },
      "execution_count": null,
      "outputs": [
        {
          "output_type": "stream",
          "name": "stdout",
          "text": [
            "(1, 784)\n"
          ]
        },
        {
          "output_type": "execute_result",
          "data": {
            "text/plain": [
              "array([[0., 0., 0., 0., 1., 0., 0., 0., 0., 0.]], dtype=float32)"
            ]
          },
          "metadata": {},
          "execution_count": 77
        }
      ]
    },
    {
      "cell_type": "code",
      "source": [
        "import numpy as np\n",
        "# the output of network is in one-hot format\n",
        "# change it to the original label (0 to 9)\n",
        "\n",
        "out_class = np.argmax(net_out,axis=-1)\n",
        "print( \"Output class is: \", out_class)"
      ],
      "metadata": {
        "colab": {
          "base_uri": "https://localhost:8080/"
        },
        "id": "uV-x8GH2FkLs",
        "outputId": "52a65cec-0598-4a35-db7e-4866e0ecb110"
      },
      "execution_count": null,
      "outputs": [
        {
          "output_type": "stream",
          "name": "stdout",
          "text": [
            "Output class is:  [4]\n"
          ]
        }
      ]
    }
  ]
}
