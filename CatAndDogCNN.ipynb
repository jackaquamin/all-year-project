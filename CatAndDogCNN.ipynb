{
  "nbformat": 4,
  "nbformat_minor": 0,
  "metadata": {
    "colab": {
      "provenance": [],
      "mount_file_id": "1kMfO5VBjuqZPM3lVwngm_h_293B0o-0E",
      "authorship_tag": "ABX9TyNJN2UxzNcBHldaQP7nTbX5",
      "include_colab_link": true
    },
    "kernelspec": {
      "name": "python3",
      "display_name": "Python 3"
    },
    "language_info": {
      "name": "python"
    }
  },
  "cells": [
    {
      "cell_type": "markdown",
      "metadata": {
        "id": "view-in-github",
        "colab_type": "text"
      },
      "source": [
        "<a href=\"https://colab.research.google.com/github/jackaquamin/myprojects/blob/main/CatAndDogCNN.ipynb\" target=\"_parent\"><img src=\"https://colab.research.google.com/assets/colab-badge.svg\" alt=\"Open In Colab\"/></a>"
      ]
    },
    {
      "cell_type": "code",
      "execution_count": null,
      "metadata": {
        "id": "KL9m3eEpJVsK"
      },
      "outputs": [],
      "source": [
        "# define file path to upload dataset\n",
        "train_dir = '/content/drive/MyDrive/Colab Notebooks/cats_and_dogs_small/train'\n",
        "val_dir ='/content/drive/MyDrive/Colab Notebooks/cats_and_dogs_small/validation'\n",
        "test_dir = '/content/drive/MyDrive/Colab Notebooks/cats_and_dogs_small/test'"
      ]
    },
    {
      "cell_type": "code",
      "source": [
        "# load the dataset\n",
        "# image data generator (train,test,val)\n",
        "from tensorflow.keras.preprocessing.image import ImageDataGenerator\n",
        "\n",
        "# 3 image data generator (templates)\n",
        "train_datagen = ImageDataGenerator(rescale=1./255) # rearange image pixel between 0 and 1\n",
        "val_datagen = ImageDataGenerator(rescale=1./255) # rearange image pixel between 0 and 1\n",
        "test_datagen = ImageDataGenerator(rescale=1./255) # rearange image pixel between 0 and 1\n",
        "\n",
        "# flow the images into the created generators\n",
        "train_generator = train_datagen.flow_from_directory(train_dir, target_size=(224,224), batch_size=32, class_mode='binary')\n",
        "\n",
        "# class mode = binary because cat and dog (2 classes)\n",
        "# more than 2 classes, class mode should be 'categorical'\n",
        "val_generator = val_datagen.flow_from_directory(val_dir, target_size=(224,224), batch_size=32, class_mode='binary')\n",
        "test_generator = test_datagen.flow_from_directory(test_dir, target_size=(224,224), batch_size=32, class_mode='binary')"
      ],
      "metadata": {
        "colab": {
          "base_uri": "https://localhost:8080/"
        },
        "id": "CF88wT4pLco3",
        "outputId": "08f0e11a-f7fe-4cd3-9853-d5ae6e40ebae"
      },
      "execution_count": null,
      "outputs": [
        {
          "output_type": "stream",
          "name": "stdout",
          "text": [
            "Found 2000 images belonging to 2 classes.\n",
            "Found 1000 images belonging to 2 classes.\n",
            "Found 1000 images belonging to 2 classes.\n"
          ]
        }
      ]
    },
    {
      "cell_type": "code",
      "source": [
        "# create CNN model\n",
        "# convert for dog cat classification\n",
        "from tensorflow.keras import layers, models\n",
        "model = models.Sequential()\n",
        "model.add(layers.Conv2D(32, (3, 3), activation='relu',input_shape=(224, 224, 3))) # RGB\n",
        "model.add(layers.MaxPooling2D((2, 2)))\n",
        "model.add(layers.Conv2D(64, (3, 3), activation='relu'))\n",
        "model.add(layers.MaxPooling2D((2, 2)))\n",
        "model.add(layers.Conv2D(128, (3, 3), activation='relu'))\n",
        "model.add(layers.MaxPooling2D((2, 2)))\n",
        "model.add(layers.Conv2D(128, (3, 3), activation='relu'))\n",
        "model.add(layers.MaxPooling2D((2, 2)))\n",
        "model.add(layers.Flatten())\n",
        "model.add(layers.Dense(512, activation='relu'))\n",
        "model.add(layers.Dense(1, activation='sigmoid'))\n",
        "model.summary()"
      ],
      "metadata": {
        "colab": {
          "base_uri": "https://localhost:8080/"
        },
        "id": "gCCXdPXJOu60",
        "outputId": "97818ea4-5c13-4029-be46-d2cc13142bc4"
      },
      "execution_count": null,
      "outputs": [
        {
          "output_type": "stream",
          "name": "stdout",
          "text": [
            "Model: \"sequential\"\n",
            "_________________________________________________________________\n",
            " Layer (type)                Output Shape              Param #   \n",
            "=================================================================\n",
            " conv2d (Conv2D)             (None, 222, 222, 32)      896       \n",
            "                                                                 \n",
            " max_pooling2d (MaxPooling2D  (None, 111, 111, 32)     0         \n",
            " )                                                               \n",
            "                                                                 \n",
            " conv2d_1 (Conv2D)           (None, 109, 109, 64)      18496     \n",
            "                                                                 \n",
            " max_pooling2d_1 (MaxPooling  (None, 54, 54, 64)       0         \n",
            " 2D)                                                             \n",
            "                                                                 \n",
            " conv2d_2 (Conv2D)           (None, 52, 52, 128)       73856     \n",
            "                                                                 \n",
            " max_pooling2d_2 (MaxPooling  (None, 26, 26, 128)      0         \n",
            " 2D)                                                             \n",
            "                                                                 \n",
            " conv2d_3 (Conv2D)           (None, 24, 24, 128)       147584    \n",
            "                                                                 \n",
            " max_pooling2d_3 (MaxPooling  (None, 12, 12, 128)      0         \n",
            " 2D)                                                             \n",
            "                                                                 \n",
            " flatten (Flatten)           (None, 18432)             0         \n",
            "                                                                 \n",
            " dense (Dense)               (None, 512)               9437696   \n",
            "                                                                 \n",
            " dense_1 (Dense)             (None, 1)                 513       \n",
            "                                                                 \n",
            "=================================================================\n",
            "Total params: 9,679,041\n",
            "Trainable params: 9,679,041\n",
            "Non-trainable params: 0\n",
            "_________________________________________________________________\n"
          ]
        }
      ]
    },
    {
      "cell_type": "code",
      "source": [
        "# compile the model\n",
        "from tensorflow.keras import optimizers\n",
        "model.compile(loss='binary_crossentropy',optimizer=optimizers.RMSprop(learning_rate=1e-4),metrics=['acc'])\n",
        "\n",
        "# train the model\n",
        "STEP_SIZE_TRAIN = train_generator.n//train_generator.batch_size\n",
        "STEP_SIZE_VALID = val_generator.n//val_generator.batch_size\n",
        "print(STEP_SIZE_TRAIN,STEP_SIZE_VALID)\n",
        "history = model.fit(train_generator, steps_per_epoch=STEP_SIZE_TRAIN, epochs=10, validation_data=val_generator, validation_steps=STEP_SIZE_VALID)"
      ],
      "metadata": {
        "colab": {
          "base_uri": "https://localhost:8080/"
        },
        "id": "PUpZwlXbRUBC",
        "outputId": "1fda368f-b2f5-4d70-957e-f7871fc8e9ed"
      },
      "execution_count": null,
      "outputs": [
        {
          "output_type": "stream",
          "name": "stdout",
          "text": [
            "62 31\n",
            "Epoch 1/10\n",
            "62/62 [==============================] - 505s 8s/step - loss: 0.6842 - acc: 0.5437 - val_loss: 0.6515 - val_acc: 0.6341\n",
            "Epoch 2/10\n",
            "62/62 [==============================] - 145s 2s/step - loss: 0.6332 - acc: 0.6408 - val_loss: 0.6666 - val_acc: 0.6048\n",
            "Epoch 3/10\n",
            "62/62 [==============================] - 145s 2s/step - loss: 0.5839 - acc: 0.6931 - val_loss: 0.5943 - val_acc: 0.6905\n",
            "Epoch 4/10\n",
            "62/62 [==============================] - 145s 2s/step - loss: 0.5427 - acc: 0.7287 - val_loss: 0.5965 - val_acc: 0.6704\n",
            "Epoch 5/10\n",
            "62/62 [==============================] - 146s 2s/step - loss: 0.5168 - acc: 0.7464 - val_loss: 0.5767 - val_acc: 0.7036\n",
            "Epoch 6/10\n",
            "62/62 [==============================] - 146s 2s/step - loss: 0.4824 - acc: 0.7647 - val_loss: 0.6269 - val_acc: 0.6552\n",
            "Epoch 7/10\n",
            "62/62 [==============================] - 146s 2s/step - loss: 0.4594 - acc: 0.7754 - val_loss: 0.6543 - val_acc: 0.6724\n",
            "Epoch 8/10\n",
            "62/62 [==============================] - 146s 2s/step - loss: 0.4325 - acc: 0.8003 - val_loss: 0.6230 - val_acc: 0.6825\n",
            "Epoch 9/10\n",
            "62/62 [==============================] - 149s 2s/step - loss: 0.3971 - acc: 0.8333 - val_loss: 0.6174 - val_acc: 0.6976\n",
            "Epoch 10/10\n",
            "62/62 [==============================] - 148s 2s/step - loss: 0.3699 - acc: 0.8283 - val_loss: 0.6074 - val_acc: 0.7107\n"
          ]
        }
      ]
    },
    {
      "cell_type": "code",
      "source": [
        "#save the trained model\n",
        "model.save('/content/drive/MyDrive/Colab Notebooks/cats_and_dogs_small/catdog.h5')"
      ],
      "metadata": {
        "id": "5x_MSsMJV5zT"
      },
      "execution_count": null,
      "outputs": []
    }
  ]
}